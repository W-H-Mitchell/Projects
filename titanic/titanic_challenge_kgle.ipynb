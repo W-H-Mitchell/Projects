{
 "cells": [
  {
   "cell_type": "markdown",
   "metadata": {
    "papermill": {
     "duration": 0.050897,
     "end_time": "2021-02-01T12:08:46.270994",
     "exception": false,
     "start_time": "2021-02-01T12:08:46.220097",
     "status": "completed"
    },
    "tags": []
   },
   "source": [
    "# Imports"
   ]
  },
  {
   "cell_type": "markdown",
   "metadata": {
    "papermill": {
     "duration": 0.048229,
     "end_time": "2021-02-01T12:08:46.367747",
     "exception": false,
     "start_time": "2021-02-01T12:08:46.319518",
     "status": "completed"
    },
    "tags": []
   },
   "source": [
    "Import the necessary libraries for data wrangling and visualisation"
   ]
  },
  {
   "cell_type": "code",
   "execution_count": 1,
   "metadata": {
    "execution": {
     "iopub.execute_input": "2021-02-01T12:08:46.470233Z",
     "iopub.status.busy": "2021-02-01T12:08:46.469509Z",
     "iopub.status.idle": "2021-02-01T12:08:47.458635Z",
     "shell.execute_reply": "2021-02-01T12:08:47.457683Z"
    },
    "papermill": {
     "duration": 1.043213,
     "end_time": "2021-02-01T12:08:47.458904",
     "exception": false,
     "start_time": "2021-02-01T12:08:46.415691",
     "status": "completed"
    },
    "tags": []
   },
   "outputs": [],
   "source": [
    "import pandas as pd\n",
    "import numpy as np\n",
    "from scipy import stats\n",
    "from scipy.stats import randint\n",
    "import matplotlib.pyplot as plt\n",
    "import seaborn as sns\n",
    "sns.set(style='darkgrid', palette=\"deep\", font_scale=1.1, rc={\"figure.figsize\": [8, 5]})\n",
    "sns.set_context('paper')"
   ]
  },
  {
   "cell_type": "markdown",
   "metadata": {
    "papermill": {
     "duration": 0.048236,
     "end_time": "2021-02-01T12:08:47.557431",
     "exception": false,
     "start_time": "2021-02-01T12:08:47.509195",
     "status": "completed"
    },
    "tags": []
   },
   "source": [
    "Import machine learning models and evaluation tools"
   ]
  },
  {
   "cell_type": "code",
   "execution_count": 2,
   "metadata": {
    "execution": {
     "iopub.execute_input": "2021-02-01T12:08:47.662792Z",
     "iopub.status.busy": "2021-02-01T12:08:47.662016Z",
     "iopub.status.idle": "2021-02-01T12:08:48.586253Z",
     "shell.execute_reply": "2021-02-01T12:08:48.585662Z"
    },
    "papermill": {
     "duration": 0.979599,
     "end_time": "2021-02-01T12:08:48.586421",
     "exception": false,
     "start_time": "2021-02-01T12:08:47.606822",
     "status": "completed"
    },
    "tags": []
   },
   "outputs": [],
   "source": [
    "import sklearn\n",
    "from sklearn.impute import SimpleImputer\n",
    "from sklearn.preprocessing import OneHotEncoder, OrdinalEncoder, StandardScaler\n",
    "from sklearn.metrics import accuracy_score, make_scorer, confusion_matrix\n",
    "from sklearn.linear_model import LogisticRegression, RidgeClassifier\n",
    "from sklearn.svm import SVC, LinearSVC\n",
    "from sklearn.ensemble import RandomForestClassifier\n",
    "from sklearn.model_selection import StratifiedKFold, cross_val_score, RandomizedSearchCV\n",
    "from xgboost import XGBClassifier"
   ]
  },
  {
   "cell_type": "markdown",
   "metadata": {
    "papermill": {
     "duration": 0.048767,
     "end_time": "2021-02-01T12:08:48.683593",
     "exception": false,
     "start_time": "2021-02-01T12:08:48.634826",
     "status": "completed"
    },
    "tags": []
   },
   "source": [
    "# Read training and test data\n",
    "\n",
    "Import CSV files"
   ]
  },
  {
   "cell_type": "code",
   "execution_count": 3,
   "metadata": {
    "execution": {
     "iopub.execute_input": "2021-02-01T12:08:48.787217Z",
     "iopub.status.busy": "2021-02-01T12:08:48.786532Z",
     "iopub.status.idle": "2021-02-01T12:08:48.853027Z",
     "shell.execute_reply": "2021-02-01T12:08:48.852379Z"
    },
    "papermill": {
     "duration": 0.121003,
     "end_time": "2021-02-01T12:08:48.853169",
     "exception": false,
     "start_time": "2021-02-01T12:08:48.732166",
     "status": "completed"
    },
    "tags": []
   },
   "outputs": [
    {
     "name": "stdout",
     "output_type": "stream",
     "text": [
      "   PassengerId  Pclass                                          Name     Sex  \\\n",
      "0          892       3                              Kelly, Mr. James    male   \n",
      "1          893       3              Wilkes, Mrs. James (Ellen Needs)  female   \n",
      "2          894       2                     Myles, Mr. Thomas Francis    male   \n",
      "3          895       3                              Wirz, Mr. Albert    male   \n",
      "4          896       3  Hirvonen, Mrs. Alexander (Helga E Lindqvist)  female   \n",
      "\n",
      "    Age  SibSp  Parch   Ticket     Fare Cabin Embarked  \n",
      "0  34.5      0      0   330911   7.8292   NaN        Q  \n",
      "1  47.0      1      0   363272   7.0000   NaN        S  \n",
      "2  62.0      0      0   240276   9.6875   NaN        Q  \n",
      "3  27.0      0      0   315154   8.6625   NaN        S  \n",
      "4  22.0      1      1  3101298  12.2875   NaN        S  \n"
     ]
    }
   ],
   "source": [
    "train_data = pd.read_csv(\"../input/titanic/train.csv\")\n",
    "test_data = pd.read_csv(\"../input/titanic/test.csv\")\n",
    "submission=pd.read_csv(\"../input/titanic/gender_submission.csv\")\n",
    "\n",
    "print(test_data.head())"
   ]
  },
  {
   "cell_type": "markdown",
   "metadata": {
    "papermill": {
     "duration": 0.048179,
     "end_time": "2021-02-01T12:08:48.952042",
     "exception": false,
     "start_time": "2021-02-01T12:08:48.903863",
     "status": "completed"
    },
    "tags": []
   },
   "source": [
    "Examine the training data:\n",
    "\n",
    "Look at the top and base of the data, the data types, and for null values"
   ]
  },
  {
   "cell_type": "code",
   "execution_count": 4,
   "metadata": {
    "execution": {
     "iopub.execute_input": "2021-02-01T12:08:49.066244Z",
     "iopub.status.busy": "2021-02-01T12:08:49.065608Z",
     "iopub.status.idle": "2021-02-01T12:08:49.079432Z",
     "shell.execute_reply": "2021-02-01T12:08:49.078933Z"
    },
    "papermill": {
     "duration": 0.077717,
     "end_time": "2021-02-01T12:08:49.079591",
     "exception": false,
     "start_time": "2021-02-01T12:08:49.001874",
     "status": "completed"
    },
    "tags": []
   },
   "outputs": [
    {
     "data": {
      "text/html": [
       "<div>\n",
       "<style scoped>\n",
       "    .dataframe tbody tr th:only-of-type {\n",
       "        vertical-align: middle;\n",
       "    }\n",
       "\n",
       "    .dataframe tbody tr th {\n",
       "        vertical-align: top;\n",
       "    }\n",
       "\n",
       "    .dataframe thead th {\n",
       "        text-align: right;\n",
       "    }\n",
       "</style>\n",
       "<table border=\"1\" class=\"dataframe\">\n",
       "  <thead>\n",
       "    <tr style=\"text-align: right;\">\n",
       "      <th></th>\n",
       "      <th>PassengerId</th>\n",
       "      <th>Survived</th>\n",
       "      <th>Pclass</th>\n",
       "      <th>Name</th>\n",
       "      <th>Sex</th>\n",
       "      <th>Age</th>\n",
       "      <th>SibSp</th>\n",
       "      <th>Parch</th>\n",
       "      <th>Ticket</th>\n",
       "      <th>Fare</th>\n",
       "      <th>Cabin</th>\n",
       "      <th>Embarked</th>\n",
       "    </tr>\n",
       "  </thead>\n",
       "  <tbody>\n",
       "    <tr>\n",
       "      <th>0</th>\n",
       "      <td>1</td>\n",
       "      <td>0</td>\n",
       "      <td>3</td>\n",
       "      <td>Braund, Mr. Owen Harris</td>\n",
       "      <td>male</td>\n",
       "      <td>22.0</td>\n",
       "      <td>1</td>\n",
       "      <td>0</td>\n",
       "      <td>A/5 21171</td>\n",
       "      <td>7.2500</td>\n",
       "      <td>NaN</td>\n",
       "      <td>S</td>\n",
       "    </tr>\n",
       "    <tr>\n",
       "      <th>1</th>\n",
       "      <td>2</td>\n",
       "      <td>1</td>\n",
       "      <td>1</td>\n",
       "      <td>Cumings, Mrs. John Bradley (Florence Briggs Th...</td>\n",
       "      <td>female</td>\n",
       "      <td>38.0</td>\n",
       "      <td>1</td>\n",
       "      <td>0</td>\n",
       "      <td>PC 17599</td>\n",
       "      <td>71.2833</td>\n",
       "      <td>C85</td>\n",
       "      <td>C</td>\n",
       "    </tr>\n",
       "    <tr>\n",
       "      <th>2</th>\n",
       "      <td>3</td>\n",
       "      <td>1</td>\n",
       "      <td>3</td>\n",
       "      <td>Heikkinen, Miss. Laina</td>\n",
       "      <td>female</td>\n",
       "      <td>26.0</td>\n",
       "      <td>0</td>\n",
       "      <td>0</td>\n",
       "      <td>STON/O2. 3101282</td>\n",
       "      <td>7.9250</td>\n",
       "      <td>NaN</td>\n",
       "      <td>S</td>\n",
       "    </tr>\n",
       "    <tr>\n",
       "      <th>3</th>\n",
       "      <td>4</td>\n",
       "      <td>1</td>\n",
       "      <td>1</td>\n",
       "      <td>Futrelle, Mrs. Jacques Heath (Lily May Peel)</td>\n",
       "      <td>female</td>\n",
       "      <td>35.0</td>\n",
       "      <td>1</td>\n",
       "      <td>0</td>\n",
       "      <td>113803</td>\n",
       "      <td>53.1000</td>\n",
       "      <td>C123</td>\n",
       "      <td>S</td>\n",
       "    </tr>\n",
       "    <tr>\n",
       "      <th>4</th>\n",
       "      <td>5</td>\n",
       "      <td>0</td>\n",
       "      <td>3</td>\n",
       "      <td>Allen, Mr. William Henry</td>\n",
       "      <td>male</td>\n",
       "      <td>35.0</td>\n",
       "      <td>0</td>\n",
       "      <td>0</td>\n",
       "      <td>373450</td>\n",
       "      <td>8.0500</td>\n",
       "      <td>NaN</td>\n",
       "      <td>S</td>\n",
       "    </tr>\n",
       "  </tbody>\n",
       "</table>\n",
       "</div>"
      ],
      "text/plain": [
       "   PassengerId  Survived  Pclass  \\\n",
       "0            1         0       3   \n",
       "1            2         1       1   \n",
       "2            3         1       3   \n",
       "3            4         1       1   \n",
       "4            5         0       3   \n",
       "\n",
       "                                                Name     Sex   Age  SibSp  \\\n",
       "0                            Braund, Mr. Owen Harris    male  22.0      1   \n",
       "1  Cumings, Mrs. John Bradley (Florence Briggs Th...  female  38.0      1   \n",
       "2                             Heikkinen, Miss. Laina  female  26.0      0   \n",
       "3       Futrelle, Mrs. Jacques Heath (Lily May Peel)  female  35.0      1   \n",
       "4                           Allen, Mr. William Henry    male  35.0      0   \n",
       "\n",
       "   Parch            Ticket     Fare Cabin Embarked  \n",
       "0      0         A/5 21171   7.2500   NaN        S  \n",
       "1      0          PC 17599  71.2833   C85        C  \n",
       "2      0  STON/O2. 3101282   7.9250   NaN        S  \n",
       "3      0            113803  53.1000  C123        S  \n",
       "4      0            373450   8.0500   NaN        S  "
      ]
     },
     "execution_count": 4,
     "metadata": {},
     "output_type": "execute_result"
    }
   ],
   "source": [
    "train_columns = train_data.columns\n",
    "train_index = train_data.index\n",
    "\n",
    "train_data.head()"
   ]
  },
  {
   "cell_type": "code",
   "execution_count": 5,
   "metadata": {
    "execution": {
     "iopub.execute_input": "2021-02-01T12:08:49.195622Z",
     "iopub.status.busy": "2021-02-01T12:08:49.194943Z",
     "iopub.status.idle": "2021-02-01T12:08:49.198467Z",
     "shell.execute_reply": "2021-02-01T12:08:49.199126Z"
    },
    "papermill": {
     "duration": 0.070682,
     "end_time": "2021-02-01T12:08:49.199325",
     "exception": false,
     "start_time": "2021-02-01T12:08:49.128643",
     "status": "completed"
    },
    "tags": []
   },
   "outputs": [
    {
     "data": {
      "text/html": [
       "<div>\n",
       "<style scoped>\n",
       "    .dataframe tbody tr th:only-of-type {\n",
       "        vertical-align: middle;\n",
       "    }\n",
       "\n",
       "    .dataframe tbody tr th {\n",
       "        vertical-align: top;\n",
       "    }\n",
       "\n",
       "    .dataframe thead th {\n",
       "        text-align: right;\n",
       "    }\n",
       "</style>\n",
       "<table border=\"1\" class=\"dataframe\">\n",
       "  <thead>\n",
       "    <tr style=\"text-align: right;\">\n",
       "      <th></th>\n",
       "      <th>PassengerId</th>\n",
       "      <th>Survived</th>\n",
       "      <th>Pclass</th>\n",
       "      <th>Name</th>\n",
       "      <th>Sex</th>\n",
       "      <th>Age</th>\n",
       "      <th>SibSp</th>\n",
       "      <th>Parch</th>\n",
       "      <th>Ticket</th>\n",
       "      <th>Fare</th>\n",
       "      <th>Cabin</th>\n",
       "      <th>Embarked</th>\n",
       "    </tr>\n",
       "  </thead>\n",
       "  <tbody>\n",
       "    <tr>\n",
       "      <th>886</th>\n",
       "      <td>887</td>\n",
       "      <td>0</td>\n",
       "      <td>2</td>\n",
       "      <td>Montvila, Rev. Juozas</td>\n",
       "      <td>male</td>\n",
       "      <td>27.0</td>\n",
       "      <td>0</td>\n",
       "      <td>0</td>\n",
       "      <td>211536</td>\n",
       "      <td>13.00</td>\n",
       "      <td>NaN</td>\n",
       "      <td>S</td>\n",
       "    </tr>\n",
       "    <tr>\n",
       "      <th>887</th>\n",
       "      <td>888</td>\n",
       "      <td>1</td>\n",
       "      <td>1</td>\n",
       "      <td>Graham, Miss. Margaret Edith</td>\n",
       "      <td>female</td>\n",
       "      <td>19.0</td>\n",
       "      <td>0</td>\n",
       "      <td>0</td>\n",
       "      <td>112053</td>\n",
       "      <td>30.00</td>\n",
       "      <td>B42</td>\n",
       "      <td>S</td>\n",
       "    </tr>\n",
       "    <tr>\n",
       "      <th>888</th>\n",
       "      <td>889</td>\n",
       "      <td>0</td>\n",
       "      <td>3</td>\n",
       "      <td>Johnston, Miss. Catherine Helen \"Carrie\"</td>\n",
       "      <td>female</td>\n",
       "      <td>NaN</td>\n",
       "      <td>1</td>\n",
       "      <td>2</td>\n",
       "      <td>W./C. 6607</td>\n",
       "      <td>23.45</td>\n",
       "      <td>NaN</td>\n",
       "      <td>S</td>\n",
       "    </tr>\n",
       "    <tr>\n",
       "      <th>889</th>\n",
       "      <td>890</td>\n",
       "      <td>1</td>\n",
       "      <td>1</td>\n",
       "      <td>Behr, Mr. Karl Howell</td>\n",
       "      <td>male</td>\n",
       "      <td>26.0</td>\n",
       "      <td>0</td>\n",
       "      <td>0</td>\n",
       "      <td>111369</td>\n",
       "      <td>30.00</td>\n",
       "      <td>C148</td>\n",
       "      <td>C</td>\n",
       "    </tr>\n",
       "    <tr>\n",
       "      <th>890</th>\n",
       "      <td>891</td>\n",
       "      <td>0</td>\n",
       "      <td>3</td>\n",
       "      <td>Dooley, Mr. Patrick</td>\n",
       "      <td>male</td>\n",
       "      <td>32.0</td>\n",
       "      <td>0</td>\n",
       "      <td>0</td>\n",
       "      <td>370376</td>\n",
       "      <td>7.75</td>\n",
       "      <td>NaN</td>\n",
       "      <td>Q</td>\n",
       "    </tr>\n",
       "  </tbody>\n",
       "</table>\n",
       "</div>"
      ],
      "text/plain": [
       "     PassengerId  Survived  Pclass                                      Name  \\\n",
       "886          887         0       2                     Montvila, Rev. Juozas   \n",
       "887          888         1       1              Graham, Miss. Margaret Edith   \n",
       "888          889         0       3  Johnston, Miss. Catherine Helen \"Carrie\"   \n",
       "889          890         1       1                     Behr, Mr. Karl Howell   \n",
       "890          891         0       3                       Dooley, Mr. Patrick   \n",
       "\n",
       "        Sex   Age  SibSp  Parch      Ticket   Fare Cabin Embarked  \n",
       "886    male  27.0      0      0      211536  13.00   NaN        S  \n",
       "887  female  19.0      0      0      112053  30.00   B42        S  \n",
       "888  female   NaN      1      2  W./C. 6607  23.45   NaN        S  \n",
       "889    male  26.0      0      0      111369  30.00  C148        C  \n",
       "890    male  32.0      0      0      370376   7.75   NaN        Q  "
      ]
     },
     "execution_count": 5,
     "metadata": {},
     "output_type": "execute_result"
    }
   ],
   "source": [
    "train_data.tail()"
   ]
  },
  {
   "cell_type": "markdown",
   "metadata": {
    "papermill": {
     "duration": 0.050548,
     "end_time": "2021-02-01T12:08:49.304609",
     "exception": false,
     "start_time": "2021-02-01T12:08:49.254061",
     "status": "completed"
    },
    "tags": []
   },
   "source": [
    "Can see a few null values in the cabin column already"
   ]
  },
  {
   "cell_type": "markdown",
   "metadata": {
    "papermill": {
     "duration": 0.050001,
     "end_time": "2021-02-01T12:08:49.403762",
     "exception": false,
     "start_time": "2021-02-01T12:08:49.353761",
     "status": "completed"
    },
    "tags": []
   },
   "source": [
    "Examine the number of each data type"
   ]
  },
  {
   "cell_type": "code",
   "execution_count": 6,
   "metadata": {
    "execution": {
     "iopub.execute_input": "2021-02-01T12:08:49.540780Z",
     "iopub.status.busy": "2021-02-01T12:08:49.539778Z",
     "iopub.status.idle": "2021-02-01T12:08:49.563220Z",
     "shell.execute_reply": "2021-02-01T12:08:49.563992Z"
    },
    "papermill": {
     "duration": 0.100481,
     "end_time": "2021-02-01T12:08:49.564181",
     "exception": false,
     "start_time": "2021-02-01T12:08:49.463700",
     "status": "completed"
    },
    "tags": []
   },
   "outputs": [
    {
     "data": {
      "text/html": [
       "<div>\n",
       "<style scoped>\n",
       "    .dataframe tbody tr th:only-of-type {\n",
       "        vertical-align: middle;\n",
       "    }\n",
       "\n",
       "    .dataframe tbody tr th {\n",
       "        vertical-align: top;\n",
       "    }\n",
       "\n",
       "    .dataframe thead th {\n",
       "        text-align: right;\n",
       "    }\n",
       "</style>\n",
       "<table border=\"1\" class=\"dataframe\">\n",
       "  <thead>\n",
       "    <tr style=\"text-align: right;\">\n",
       "      <th></th>\n",
       "      <th>Dtype</th>\n",
       "      <th>Count</th>\n",
       "    </tr>\n",
       "  </thead>\n",
       "  <tbody>\n",
       "    <tr>\n",
       "      <th>0</th>\n",
       "      <td>int64</td>\n",
       "      <td>5</td>\n",
       "    </tr>\n",
       "    <tr>\n",
       "      <th>1</th>\n",
       "      <td>float64</td>\n",
       "      <td>2</td>\n",
       "    </tr>\n",
       "    <tr>\n",
       "      <th>2</th>\n",
       "      <td>object</td>\n",
       "      <td>5</td>\n",
       "    </tr>\n",
       "  </tbody>\n",
       "</table>\n",
       "</div>"
      ],
      "text/plain": [
       "     Dtype  Count\n",
       "0    int64      5\n",
       "1  float64      2\n",
       "2   object      5"
      ]
     },
     "execution_count": 6,
     "metadata": {},
     "output_type": "execute_result"
    }
   ],
   "source": [
    "data_types = train_data.dtypes.reset_index()\n",
    "data_types.columns = ['Count', 'Dtype']\n",
    "data_types.groupby('Dtype').aggregate('count').reset_index()"
   ]
  },
  {
   "cell_type": "markdown",
   "metadata": {
    "papermill": {
     "duration": 0.051979,
     "end_time": "2021-02-01T12:08:49.673612",
     "exception": false,
     "start_time": "2021-02-01T12:08:49.621633",
     "status": "completed"
    },
    "tags": []
   },
   "source": [
    "# Exploratory Data Analysis \n",
    "Visualising and analysing the data to extract insights. We want to summarise important characteristics and trends in our data in order to better understand our dataset and relationships within it.\n",
    "\n",
    "**Categorical Features:**\n",
    "Within categorical features are the values nominal, ordinal, ratio, or interval based? This helps us select the appropriate plots for visualization.\n",
    "\n",
    "**Numerical Features:**\n",
    "Within numerical features are the values discrete, continuous, or timeseries based?"
   ]
  },
  {
   "cell_type": "code",
   "execution_count": 7,
   "metadata": {
    "execution": {
     "iopub.execute_input": "2021-02-01T12:08:49.779492Z",
     "iopub.status.busy": "2021-02-01T12:08:49.778523Z",
     "iopub.status.idle": "2021-02-01T12:08:49.785925Z",
     "shell.execute_reply": "2021-02-01T12:08:49.785256Z"
    },
    "papermill": {
     "duration": 0.06169,
     "end_time": "2021-02-01T12:08:49.786077",
     "exception": false,
     "start_time": "2021-02-01T12:08:49.724387",
     "status": "completed"
    },
    "tags": []
   },
   "outputs": [
    {
     "name": "stdout",
     "output_type": "stream",
     "text": [
      "Index(['PassengerId', 'Survived', 'Pclass', 'Name', 'Sex', 'Age', 'SibSp',\n",
      "       'Parch', 'Ticket', 'Fare', 'Cabin', 'Embarked'],\n",
      "      dtype='object')\n"
     ]
    }
   ],
   "source": [
    "print(train_columns)"
   ]
  },
  {
   "cell_type": "code",
   "execution_count": 8,
   "metadata": {
    "execution": {
     "iopub.execute_input": "2021-02-01T12:08:49.908603Z",
     "iopub.status.busy": "2021-02-01T12:08:49.906301Z",
     "iopub.status.idle": "2021-02-01T12:08:49.923564Z",
     "shell.execute_reply": "2021-02-01T12:08:49.922969Z"
    },
    "papermill": {
     "duration": 0.086371,
     "end_time": "2021-02-01T12:08:49.923716",
     "exception": false,
     "start_time": "2021-02-01T12:08:49.837345",
     "status": "completed"
    },
    "tags": []
   },
   "outputs": [
    {
     "name": "stdout",
     "output_type": "stream",
     "text": [
      "<class 'pandas.core.frame.DataFrame'>\n",
      "RangeIndex: 891 entries, 0 to 890\n",
      "Data columns (total 12 columns):\n",
      " #   Column       Non-Null Count  Dtype  \n",
      "---  ------       --------------  -----  \n",
      " 0   PassengerId  891 non-null    int64  \n",
      " 1   Survived     891 non-null    int64  \n",
      " 2   Pclass       891 non-null    int64  \n",
      " 3   Name         891 non-null    object \n",
      " 4   Sex          891 non-null    object \n",
      " 5   Age          714 non-null    float64\n",
      " 6   SibSp        891 non-null    int64  \n",
      " 7   Parch        891 non-null    int64  \n",
      " 8   Ticket       891 non-null    object \n",
      " 9   Fare         891 non-null    float64\n",
      " 10  Cabin        204 non-null    object \n",
      " 11  Embarked     889 non-null    object \n",
      "dtypes: float64(2), int64(5), object(5)\n",
      "memory usage: 83.7+ KB\n",
      "----------------------------------------\n",
      "<class 'pandas.core.frame.DataFrame'>\n",
      "RangeIndex: 418 entries, 0 to 417\n",
      "Data columns (total 11 columns):\n",
      " #   Column       Non-Null Count  Dtype  \n",
      "---  ------       --------------  -----  \n",
      " 0   PassengerId  418 non-null    int64  \n",
      " 1   Pclass       418 non-null    int64  \n",
      " 2   Name         418 non-null    object \n",
      " 3   Sex          418 non-null    object \n",
      " 4   Age          332 non-null    float64\n",
      " 5   SibSp        418 non-null    int64  \n",
      " 6   Parch        418 non-null    int64  \n",
      " 7   Ticket       418 non-null    object \n",
      " 8   Fare         417 non-null    float64\n",
      " 9   Cabin        91 non-null     object \n",
      " 10  Embarked     418 non-null    object \n",
      "dtypes: float64(2), int64(4), object(5)\n",
      "memory usage: 36.0+ KB\n"
     ]
    }
   ],
   "source": [
    "train_data.info()\n",
    "print('-'*40)\n",
    "test_data.info() "
   ]
  },
  {
   "cell_type": "code",
   "execution_count": 9,
   "metadata": {
    "execution": {
     "iopub.execute_input": "2021-02-01T12:08:50.032363Z",
     "iopub.status.busy": "2021-02-01T12:08:50.031335Z",
     "iopub.status.idle": "2021-02-01T12:08:50.035448Z",
     "shell.execute_reply": "2021-02-01T12:08:50.034835Z"
    },
    "papermill": {
     "duration": 0.060858,
     "end_time": "2021-02-01T12:08:50.035627",
     "exception": false,
     "start_time": "2021-02-01T12:08:49.974769",
     "status": "completed"
    },
    "tags": []
   },
   "outputs": [
    {
     "name": "stdout",
     "output_type": "stream",
     "text": [
      "Train_data is : (891, 12)\n",
      "                           \n",
      "Test_data is : (418, 11)\n"
     ]
    }
   ],
   "source": [
    "print(f'Train_data is : {train_data.shape}')\n",
    "print(' '*27)\n",
    "print(f'Test_data is : {test_data.shape}')"
   ]
  },
  {
   "cell_type": "code",
   "execution_count": 10,
   "metadata": {
    "execution": {
     "iopub.execute_input": "2021-02-01T12:08:50.146530Z",
     "iopub.status.busy": "2021-02-01T12:08:50.145490Z",
     "iopub.status.idle": "2021-02-01T12:08:50.208789Z",
     "shell.execute_reply": "2021-02-01T12:08:50.209982Z"
    },
    "papermill": {
     "duration": 0.122844,
     "end_time": "2021-02-01T12:08:50.210210",
     "exception": false,
     "start_time": "2021-02-01T12:08:50.087366",
     "status": "completed"
    },
    "tags": []
   },
   "outputs": [
    {
     "name": "stdout",
     "output_type": "stream",
     "text": [
      "        PassengerId    Survived      Pclass                        Name   Sex  \\\n",
      "count    891.000000  891.000000  891.000000                         891   891   \n",
      "unique          NaN         NaN         NaN                         891     2   \n",
      "top             NaN         NaN         NaN  Cameron, Miss. Clear Annie  male   \n",
      "freq            NaN         NaN         NaN                           1   577   \n",
      "mean     446.000000    0.383838    2.308642                         NaN   NaN   \n",
      "std      257.353842    0.486592    0.836071                         NaN   NaN   \n",
      "min        1.000000    0.000000    1.000000                         NaN   NaN   \n",
      "25%      223.500000    0.000000    2.000000                         NaN   NaN   \n",
      "50%      446.000000    0.000000    3.000000                         NaN   NaN   \n",
      "75%      668.500000    1.000000    3.000000                         NaN   NaN   \n",
      "max      891.000000    1.000000    3.000000                         NaN   NaN   \n",
      "\n",
      "               Age       SibSp       Parch    Ticket        Fare    Cabin  \\\n",
      "count   714.000000  891.000000  891.000000       891  891.000000      204   \n",
      "unique         NaN         NaN         NaN       681         NaN      147   \n",
      "top            NaN         NaN         NaN  CA. 2343         NaN  B96 B98   \n",
      "freq           NaN         NaN         NaN         7         NaN        4   \n",
      "mean     29.699118    0.523008    0.381594       NaN   32.204208      NaN   \n",
      "std      14.526497    1.102743    0.806057       NaN   49.693429      NaN   \n",
      "min       0.420000    0.000000    0.000000       NaN    0.000000      NaN   \n",
      "25%      20.125000    0.000000    0.000000       NaN    7.910400      NaN   \n",
      "50%      28.000000    0.000000    0.000000       NaN   14.454200      NaN   \n",
      "75%      38.000000    1.000000    0.000000       NaN   31.000000      NaN   \n",
      "max      80.000000    8.000000    6.000000       NaN  512.329200      NaN   \n",
      "\n",
      "       Embarked  \n",
      "count       889  \n",
      "unique        3  \n",
      "top           S  \n",
      "freq        644  \n",
      "mean        NaN  \n",
      "std         NaN  \n",
      "min         NaN  \n",
      "25%         NaN  \n",
      "50%         NaN  \n",
      "75%         NaN  \n",
      "max         NaN  \n"
     ]
    }
   ],
   "source": [
    "print(train_data.describe(include=\"all\")) "
   ]
  },
  {
   "cell_type": "markdown",
   "metadata": {
    "papermill": {
     "duration": 0.057008,
     "end_time": "2021-02-01T12:08:50.326366",
     "exception": false,
     "start_time": "2021-02-01T12:08:50.269358",
     "status": "completed"
    },
    "tags": []
   },
   "source": [
    "Names are unique across the entire dataset.\n",
    "\n",
    "Cabin has several duplicates (147 unique values in 204) across the dataset and a signifcant number of missing values.\n",
    "\n",
    "Age has multiple missing values. \n",
    "\n",
    "Embarked has two missing values. "
   ]
  },
  {
   "cell_type": "code",
   "execution_count": 11,
   "metadata": {
    "execution": {
     "iopub.execute_input": "2021-02-01T12:08:50.451601Z",
     "iopub.status.busy": "2021-02-01T12:08:50.450824Z",
     "iopub.status.idle": "2021-02-01T12:08:50.462914Z",
     "shell.execute_reply": "2021-02-01T12:08:50.462323Z"
    },
    "papermill": {
     "duration": 0.078816,
     "end_time": "2021-02-01T12:08:50.463076",
     "exception": false,
     "start_time": "2021-02-01T12:08:50.384260",
     "status": "completed"
    },
    "tags": []
   },
   "outputs": [
    {
     "name": "stdout",
     "output_type": "stream",
     "text": [
      "    Column_Name  Num_Unique\n",
      "1      Survived           2\n",
      "4           Sex           2\n",
      "2        Pclass           3\n",
      "11     Embarked           3\n",
      "6         SibSp           7\n",
      "7         Parch           7\n",
      "5           Age          88\n",
      "10        Cabin         147\n",
      "9          Fare         248\n",
      "8        Ticket         681\n",
      "0   PassengerId         891\n",
      "3          Name         891\n"
     ]
    }
   ],
   "source": [
    "# Check the number of unique values in the numerical data, will help create useful visulatisations\n",
    "unique_values = pd.DataFrame.from_records([(col, train_data[col].nunique()) for col in train_data.columns],\n",
    "                          columns=['Column_Name', 'Num_Unique']).sort_values(by=['Num_Unique'])\n",
    "print(unique_values)"
   ]
  },
  {
   "cell_type": "markdown",
   "metadata": {
    "papermill": {
     "duration": 0.052648,
     "end_time": "2021-02-01T12:08:50.569244",
     "exception": false,
     "start_time": "2021-02-01T12:08:50.516596",
     "status": "completed"
    },
    "tags": []
   },
   "source": [
    "**Analyse data by comparing the relationship between features**\n",
    "\n",
    "Examine whether Pclass, Sex, Embarked, and SibSp impact survival rate. "
   ]
  },
  {
   "cell_type": "code",
   "execution_count": 12,
   "metadata": {
    "execution": {
     "iopub.execute_input": "2021-02-01T12:08:50.691325Z",
     "iopub.status.busy": "2021-02-01T12:08:50.690676Z",
     "iopub.status.idle": "2021-02-01T12:08:50.847368Z",
     "shell.execute_reply": "2021-02-01T12:08:50.847872Z"
    },
    "papermill": {
     "duration": 0.223683,
     "end_time": "2021-02-01T12:08:50.848064",
     "exception": false,
     "start_time": "2021-02-01T12:08:50.624381",
     "status": "completed"
    },
    "tags": []
   },
   "outputs": [
    {
     "data": {
      "image/png": "[encoded data removed]",
      "text/plain": [
       "<Figure size 576x360 with 1 Axes>"
      ]
     },
     "metadata": {},
     "output_type": "display_data"
    }
   ],
   "source": [
    "# Examine the infuence of sex and embarked on survived (=1)\n",
    "train_data.groupby('Sex')['Survived'].count()\n",
    "# Visualise the number of survivers\n",
    "ax = sns.countplot(data=train_data[train_data['Survived'] == 1], x='Sex')\n",
    "ax.set_ylabel(\"Number of survivers\")\n",
    "plt.show()"
   ]
  },
  {
   "cell_type": "code",
   "execution_count": 13,
   "metadata": {
    "execution": {
     "iopub.execute_input": "2021-02-01T12:08:50.961605Z",
     "iopub.status.busy": "2021-02-01T12:08:50.960648Z",
     "iopub.status.idle": "2021-02-01T12:08:50.974714Z",
     "shell.execute_reply": "2021-02-01T12:08:50.975148Z"
    },
    "papermill": {
     "duration": 0.072605,
     "end_time": "2021-02-01T12:08:50.975318",
     "exception": false,
     "start_time": "2021-02-01T12:08:50.902713",
     "status": "completed"
    },
    "tags": []
   },
   "outputs": [
    {
     "data": {
      "text/html": [
       "<div>\n",
       "<style scoped>\n",
       "    .dataframe tbody tr th:only-of-type {\n",
       "        vertical-align: middle;\n",
       "    }\n",
       "\n",
       "    .dataframe tbody tr th {\n",
       "        vertical-align: top;\n",
       "    }\n",
       "\n",
       "    .dataframe thead th {\n",
       "        text-align: right;\n",
       "    }\n",
       "</style>\n",
       "<table border=\"1\" class=\"dataframe\">\n",
       "  <thead>\n",
       "    <tr style=\"text-align: right;\">\n",
       "      <th></th>\n",
       "      <th>Pclass</th>\n",
       "      <th>Survived</th>\n",
       "    </tr>\n",
       "  </thead>\n",
       "  <tbody>\n",
       "    <tr>\n",
       "      <th>0</th>\n",
       "      <td>1</td>\n",
       "      <td>0.629630</td>\n",
       "    </tr>\n",
       "    <tr>\n",
       "      <th>1</th>\n",
       "      <td>2</td>\n",
       "      <td>0.472826</td>\n",
       "    </tr>\n",
       "    <tr>\n",
       "      <th>2</th>\n",
       "      <td>3</td>\n",
       "      <td>0.242363</td>\n",
       "    </tr>\n",
       "  </tbody>\n",
       "</table>\n",
       "</div>"
      ],
      "text/plain": [
       "   Pclass  Survived\n",
       "0       1  0.629630\n",
       "1       2  0.472826\n",
       "2       3  0.242363"
      ]
     },
     "execution_count": 13,
     "metadata": {},
     "output_type": "execute_result"
    }
   ],
   "source": [
    "train_data[['Pclass', 'Survived']].groupby(['Pclass'], as_index=False).mean().sort_values(by='Survived', ascending=False)"
   ]
  },
  {
   "cell_type": "code",
   "execution_count": 14,
   "metadata": {
    "execution": {
     "iopub.execute_input": "2021-02-01T12:08:51.087933Z",
     "iopub.status.busy": "2021-02-01T12:08:51.086950Z",
     "iopub.status.idle": "2021-02-01T12:08:51.101544Z",
     "shell.execute_reply": "2021-02-01T12:08:51.102101Z"
    },
    "papermill": {
     "duration": 0.073094,
     "end_time": "2021-02-01T12:08:51.102274",
     "exception": false,
     "start_time": "2021-02-01T12:08:51.029180",
     "status": "completed"
    },
    "tags": []
   },
   "outputs": [
    {
     "data": {
      "text/html": [
       "<div>\n",
       "<style scoped>\n",
       "    .dataframe tbody tr th:only-of-type {\n",
       "        vertical-align: middle;\n",
       "    }\n",
       "\n",
       "    .dataframe tbody tr th {\n",
       "        vertical-align: top;\n",
       "    }\n",
       "\n",
       "    .dataframe thead th {\n",
       "        text-align: right;\n",
       "    }\n",
       "</style>\n",
       "<table border=\"1\" class=\"dataframe\">\n",
       "  <thead>\n",
       "    <tr style=\"text-align: right;\">\n",
       "      <th></th>\n",
       "      <th>Sex</th>\n",
       "      <th>Survived</th>\n",
       "    </tr>\n",
       "  </thead>\n",
       "  <tbody>\n",
       "    <tr>\n",
       "      <th>0</th>\n",
       "      <td>female</td>\n",
       "      <td>0.742038</td>\n",
       "    </tr>\n",
       "    <tr>\n",
       "      <th>1</th>\n",
       "      <td>male</td>\n",
       "      <td>0.188908</td>\n",
       "    </tr>\n",
       "  </tbody>\n",
       "</table>\n",
       "</div>"
      ],
      "text/plain": [
       "      Sex  Survived\n",
       "0  female  0.742038\n",
       "1    male  0.188908"
      ]
     },
     "execution_count": 14,
     "metadata": {},
     "output_type": "execute_result"
    }
   ],
   "source": [
    "train_data[['Sex', 'Survived']].groupby(['Sex'], as_index=False).mean().sort_values(by='Survived', ascending=False)"
   ]
  },
  {
   "cell_type": "code",
   "execution_count": 15,
   "metadata": {
    "execution": {
     "iopub.execute_input": "2021-02-01T12:08:51.221503Z",
     "iopub.status.busy": "2021-02-01T12:08:51.220361Z",
     "iopub.status.idle": "2021-02-01T12:08:51.236054Z",
     "shell.execute_reply": "2021-02-01T12:08:51.235238Z"
    },
    "papermill": {
     "duration": 0.077393,
     "end_time": "2021-02-01T12:08:51.236221",
     "exception": false,
     "start_time": "2021-02-01T12:08:51.158828",
     "status": "completed"
    },
    "tags": []
   },
   "outputs": [
    {
     "data": {
      "text/html": [
       "<div>\n",
       "<style scoped>\n",
       "    .dataframe tbody tr th:only-of-type {\n",
       "        vertical-align: middle;\n",
       "    }\n",
       "\n",
       "    .dataframe tbody tr th {\n",
       "        vertical-align: top;\n",
       "    }\n",
       "\n",
       "    .dataframe thead th {\n",
       "        text-align: right;\n",
       "    }\n",
       "</style>\n",
       "<table border=\"1\" class=\"dataframe\">\n",
       "  <thead>\n",
       "    <tr style=\"text-align: right;\">\n",
       "      <th></th>\n",
       "      <th>Embarked</th>\n",
       "      <th>Survived</th>\n",
       "    </tr>\n",
       "  </thead>\n",
       "  <tbody>\n",
       "    <tr>\n",
       "      <th>0</th>\n",
       "      <td>C</td>\n",
       "      <td>0.553571</td>\n",
       "    </tr>\n",
       "    <tr>\n",
       "      <th>1</th>\n",
       "      <td>Q</td>\n",
       "      <td>0.389610</td>\n",
       "    </tr>\n",
       "    <tr>\n",
       "      <th>2</th>\n",
       "      <td>S</td>\n",
       "      <td>0.336957</td>\n",
       "    </tr>\n",
       "  </tbody>\n",
       "</table>\n",
       "</div>"
      ],
      "text/plain": [
       "  Embarked  Survived\n",
       "0        C  0.553571\n",
       "1        Q  0.389610\n",
       "2        S  0.336957"
      ]
     },
     "execution_count": 15,
     "metadata": {},
     "output_type": "execute_result"
    }
   ],
   "source": [
    "train_data[['Embarked', 'Survived']].groupby(['Embarked'], as_index=False).mean().sort_values(by='Survived', ascending=False)"
   ]
  },
  {
   "cell_type": "code",
   "execution_count": 16,
   "metadata": {
    "execution": {
     "iopub.execute_input": "2021-02-01T12:08:51.359995Z",
     "iopub.status.busy": "2021-02-01T12:08:51.358944Z",
     "iopub.status.idle": "2021-02-01T12:08:51.371362Z",
     "shell.execute_reply": "2021-02-01T12:08:51.370849Z"
    },
    "papermill": {
     "duration": 0.076341,
     "end_time": "2021-02-01T12:08:51.371505",
     "exception": false,
     "start_time": "2021-02-01T12:08:51.295164",
     "status": "completed"
    },
    "tags": []
   },
   "outputs": [
    {
     "data": {
      "text/html": [
       "<div>\n",
       "<style scoped>\n",
       "    .dataframe tbody tr th:only-of-type {\n",
       "        vertical-align: middle;\n",
       "    }\n",
       "\n",
       "    .dataframe tbody tr th {\n",
       "        vertical-align: top;\n",
       "    }\n",
       "\n",
       "    .dataframe thead th {\n",
       "        text-align: right;\n",
       "    }\n",
       "</style>\n",
       "<table border=\"1\" class=\"dataframe\">\n",
       "  <thead>\n",
       "    <tr style=\"text-align: right;\">\n",
       "      <th></th>\n",
       "      <th>SibSp</th>\n",
       "      <th>Survived</th>\n",
       "    </tr>\n",
       "  </thead>\n",
       "  <tbody>\n",
       "    <tr>\n",
       "      <th>1</th>\n",
       "      <td>1</td>\n",
       "      <td>0.535885</td>\n",
       "    </tr>\n",
       "    <tr>\n",
       "      <th>2</th>\n",
       "      <td>2</td>\n",
       "      <td>0.464286</td>\n",
       "    </tr>\n",
       "    <tr>\n",
       "      <th>0</th>\n",
       "      <td>0</td>\n",
       "      <td>0.345395</td>\n",
       "    </tr>\n",
       "    <tr>\n",
       "      <th>3</th>\n",
       "      <td>3</td>\n",
       "      <td>0.250000</td>\n",
       "    </tr>\n",
       "    <tr>\n",
       "      <th>4</th>\n",
       "      <td>4</td>\n",
       "      <td>0.166667</td>\n",
       "    </tr>\n",
       "    <tr>\n",
       "      <th>5</th>\n",
       "      <td>5</td>\n",
       "      <td>0.000000</td>\n",
       "    </tr>\n",
       "    <tr>\n",
       "      <th>6</th>\n",
       "      <td>8</td>\n",
       "      <td>0.000000</td>\n",
       "    </tr>\n",
       "  </tbody>\n",
       "</table>\n",
       "</div>"
      ],
      "text/plain": [
       "   SibSp  Survived\n",
       "1      1  0.535885\n",
       "2      2  0.464286\n",
       "0      0  0.345395\n",
       "3      3  0.250000\n",
       "4      4  0.166667\n",
       "5      5  0.000000\n",
       "6      8  0.000000"
      ]
     },
     "execution_count": 16,
     "metadata": {},
     "output_type": "execute_result"
    }
   ],
   "source": [
    "train_data[[\"SibSp\", \"Survived\"]].groupby(['SibSp'], as_index=False).mean().sort_values(by='Survived', ascending=False)"
   ]
  },
  {
   "cell_type": "markdown",
   "metadata": {
    "papermill": {
     "duration": 0.055458,
     "end_time": "2021-02-01T12:08:51.483183",
     "exception": false,
     "start_time": "2021-02-01T12:08:51.427725",
     "status": "completed"
    },
    "tags": []
   },
   "source": [
    "# Visualise Data"
   ]
  },
  {
   "cell_type": "code",
   "execution_count": 17,
   "metadata": {
    "execution": {
     "iopub.execute_input": "2021-02-01T12:08:51.622611Z",
     "iopub.status.busy": "2021-02-01T12:08:51.620109Z",
     "iopub.status.idle": "2021-02-01T12:08:52.487721Z",
     "shell.execute_reply": "2021-02-01T12:08:52.487034Z"
    },
    "papermill": {
     "duration": 0.946016,
     "end_time": "2021-02-01T12:08:52.487880",
     "exception": false,
     "start_time": "2021-02-01T12:08:51.541864",
     "status": "completed"
    },
    "tags": []
   },
   "outputs": [
    {
     "data": {
      "image/png": "[encoded data removed]",
      "text/plain": [
       "<Figure size 1080x720 with 6 Axes>"
      ]
     },
     "metadata": {},
     "output_type": "display_data"
    }
   ],
   "source": [
    "# View categorical feature relationship to deaths\n",
    "features = ['Pclass', 'SibSp', 'Embarked', 'Parch', 'Sex']\n",
    "fig, ax = plt.subplots(3, 2, figsize=(15, 10))\n",
    "for var, subplot in zip(features, ax.flatten()):\n",
    "    sns.countplot(x=var, data=train_data[train_data['Survived'] == 0], ax=subplot)\n",
    "    subplot.set_ylabel(\"Number of Deaths\")\n",
    "plt.show()"
   ]
  },
  {
   "cell_type": "code",
   "execution_count": 18,
   "metadata": {
    "execution": {
     "iopub.execute_input": "2021-02-01T12:08:52.623320Z",
     "iopub.status.busy": "2021-02-01T12:08:52.617817Z",
     "iopub.status.idle": "2021-02-01T12:08:53.200303Z",
     "shell.execute_reply": "2021-02-01T12:08:53.199592Z"
    },
    "papermill": {
     "duration": 0.649831,
     "end_time": "2021-02-01T12:08:53.200476",
     "exception": false,
     "start_time": "2021-02-01T12:08:52.550645",
     "status": "completed"
    },
    "tags": []
   },
   "outputs": [
    {
     "data": {
      "text/plain": [
       "<seaborn.axisgrid.FacetGrid at 0x7f63ade05390>"
      ]
     },
     "execution_count": 18,
     "metadata": {},
     "output_type": "execute_result"
    },
    {
     "data": {
      "image/png": "[encoded data removed]",
      "text/plain": [
       "<Figure size 432x216 with 2 Axes>"
      ]
     },
     "metadata": {},
     "output_type": "display_data"
    }
   ],
   "source": [
    "g = sns.FacetGrid(train_data, col='Survived')\n",
    "g.map(plt.hist, 'Age', bins=20, alpha=0.8)"
   ]
  },
  {
   "cell_type": "code",
   "execution_count": 19,
   "metadata": {
    "execution": {
     "iopub.execute_input": "2021-02-01T12:08:53.327684Z",
     "iopub.status.busy": "2021-02-01T12:08:53.327010Z",
     "iopub.status.idle": "2021-02-01T12:08:53.984356Z",
     "shell.execute_reply": "2021-02-01T12:08:53.983833Z"
    },
    "papermill": {
     "duration": 0.722434,
     "end_time": "2021-02-01T12:08:53.984501",
     "exception": false,
     "start_time": "2021-02-01T12:08:53.262067",
     "status": "completed"
    },
    "tags": []
   },
   "outputs": [
    {
     "data": {
      "text/plain": [
       "<seaborn.axisgrid.FacetGrid at 0x7f63ada86ad0>"
      ]
     },
     "execution_count": 19,
     "metadata": {},
     "output_type": "execute_result"
    },
    {
     "data": {
      "image/png": "[encoded data removed]",
      "text/plain": [
       "<Figure size 432x216 with 2 Axes>"
      ]
     },
     "metadata": {},
     "output_type": "display_data"
    }
   ],
   "source": [
    "gr = sns.FacetGrid(train_data, col='Survived')\n",
    "gr.map(plt.hist, 'Fare', bins=30, alpha=0.8)"
   ]
  },
  {
   "cell_type": "code",
   "execution_count": 20,
   "metadata": {
    "execution": {
     "iopub.execute_input": "2021-02-01T12:08:54.114234Z",
     "iopub.status.busy": "2021-02-01T12:08:54.113523Z",
     "iopub.status.idle": "2021-02-01T12:08:55.804225Z",
     "shell.execute_reply": "2021-02-01T12:08:55.803539Z"
    },
    "papermill": {
     "duration": 1.755558,
     "end_time": "2021-02-01T12:08:55.804364",
     "exception": false,
     "start_time": "2021-02-01T12:08:54.048806",
     "status": "completed"
    },
    "tags": []
   },
   "outputs": [
    {
     "name": "stderr",
     "output_type": "stream",
     "text": [
      "/opt/conda/lib/python3.7/site-packages/seaborn/axisgrid.py:316: UserWarning: The `size` parameter has been renamed to `height`; please update your code.\n",
      "  warnings.warn(msg, UserWarning)\n"
     ]
    },
    {
     "data": {
      "image/png": "[encoded data removed]",
      "text/plain": [
       "<Figure size 513.92x475.2 with 6 Axes>"
      ]
     },
     "metadata": {},
     "output_type": "display_data"
    }
   ],
   "source": [
    "# grid = sns.FacetGrid(train_df, col='Pclass', hue='Survived')\n",
    "grid = sns.FacetGrid(train_data, col='Survived', row='Pclass', size=2.2, aspect=1.6)\n",
    "grid.map(plt.hist, 'Age', alpha=0.8, bins=20)\n",
    "grid.add_legend();"
   ]
  },
  {
   "cell_type": "code",
   "execution_count": 21,
   "metadata": {
    "execution": {
     "iopub.execute_input": "2021-02-01T12:08:55.937332Z",
     "iopub.status.busy": "2021-02-01T12:08:55.936579Z",
     "iopub.status.idle": "2021-02-01T12:08:56.613838Z",
     "shell.execute_reply": "2021-02-01T12:08:56.614405Z"
    },
    "papermill": {
     "duration": 0.748541,
     "end_time": "2021-02-01T12:08:56.614600",
     "exception": false,
     "start_time": "2021-02-01T12:08:55.866059",
     "status": "completed"
    },
    "tags": []
   },
   "outputs": [
    {
     "name": "stderr",
     "output_type": "stream",
     "text": [
      "/opt/conda/lib/python3.7/site-packages/seaborn/axisgrid.py:316: UserWarning: The `size` parameter has been renamed to `height`; please update your code.\n",
      "  warnings.warn(msg, UserWarning)\n",
      "/opt/conda/lib/python3.7/site-packages/seaborn/axisgrid.py:643: UserWarning: Using the barplot function without specifying `order` is likely to produce an incorrect plot.\n",
      "  warnings.warn(warning)\n",
      "/opt/conda/lib/python3.7/site-packages/seaborn/axisgrid.py:648: UserWarning: Using the barplot function without specifying `hue_order` is likely to produce an incorrect plot.\n",
      "  warnings.warn(warning)\n"
     ]
    },
    {
     "data": {
      "text/plain": [
       "<seaborn.axisgrid.FacetGrid at 0x7f63ad52d450>"
      ]
     },
     "execution_count": 21,
     "metadata": {},
     "output_type": "execute_result"
    },
    {
     "data": {
      "image/png": "[encoded data removed]",
      "text/plain": [
       "<Figure size 315.495x475.2 with 3 Axes>"
      ]
     },
     "metadata": {},
     "output_type": "display_data"
    }
   ],
   "source": [
    "# grid = sns.FacetGrid(train_df, col='Embarked')\n",
    "grid = sns.FacetGrid(train_data, row='Embarked', size=2.2, aspect=1.6)\n",
    "grid.map(sns.barplot, 'Pclass', 'Survived', 'Sex', ci=None, palette='deep')\n",
    "grid.add_legend()"
   ]
  },
  {
   "cell_type": "code",
   "execution_count": 22,
   "metadata": {
    "execution": {
     "iopub.execute_input": "2021-02-01T12:08:56.743364Z",
     "iopub.status.busy": "2021-02-01T12:08:56.742767Z",
     "iopub.status.idle": "2021-02-01T12:08:57.754615Z",
     "shell.execute_reply": "2021-02-01T12:08:57.754058Z"
    },
    "papermill": {
     "duration": 1.077723,
     "end_time": "2021-02-01T12:08:57.754782",
     "exception": false,
     "start_time": "2021-02-01T12:08:56.677059",
     "status": "completed"
    },
    "tags": []
   },
   "outputs": [
    {
     "name": "stderr",
     "output_type": "stream",
     "text": [
      "/opt/conda/lib/python3.7/site-packages/seaborn/axisgrid.py:316: UserWarning: The `size` parameter has been renamed to `height`; please update your code.\n",
      "  warnings.warn(msg, UserWarning)\n",
      "/opt/conda/lib/python3.7/site-packages/seaborn/axisgrid.py:643: UserWarning: Using the barplot function without specifying `order` is likely to produce an incorrect plot.\n",
      "  warnings.warn(warning)\n"
     ]
    },
    {
     "data": {
      "text/plain": [
       "<seaborn.axisgrid.FacetGrid at 0x7f63ad90d410>"
      ]
     },
     "execution_count": 22,
     "metadata": {},
     "output_type": "execute_result"
    },
    {
     "data": {
      "image/png": "[encoded data removed]",
      "text/plain": [
       "<Figure size 513.92x475.2 with 6 Axes>"
      ]
     },
     "metadata": {},
     "output_type": "display_data"
    }
   ],
   "source": [
    "grid = sns.FacetGrid(train_data, row='Embarked', col='Survived', size=2.2, aspect=1.6)\n",
    "grid.map(sns.barplot, 'Sex', 'Fare', ci=None, palette='deep')\n",
    "grid.add_legend()"
   ]
  },
  {
   "cell_type": "code",
   "execution_count": 23,
   "metadata": {
    "execution": {
     "iopub.execute_input": "2021-02-01T12:08:57.911998Z",
     "iopub.status.busy": "2021-02-01T12:08:57.892414Z",
     "iopub.status.idle": "2021-02-01T12:08:58.485775Z",
     "shell.execute_reply": "2021-02-01T12:08:58.485136Z"
    },
    "papermill": {
     "duration": 0.66506,
     "end_time": "2021-02-01T12:08:58.485928",
     "exception": false,
     "start_time": "2021-02-01T12:08:57.820868",
     "status": "completed"
    },
    "tags": []
   },
   "outputs": [
    {
     "data": {
      "image/png": "[encoded data removed]",
      "text/plain": [
       "<Figure size 576x360 with 2 Axes>"
      ]
     },
     "metadata": {},
     "output_type": "display_data"
    }
   ],
   "source": [
    "corr_matrix = train_data.corr(method='pearson')\n",
    "attrib = corr_matrix.nlargest(len(corr_matrix), 'Survived').index\n",
    "sns.heatmap(corr_matrix, annot=True, cbar=True, square=True, \n",
    "            fmt='.2f', yticklabels=attrib.values, xticklabels=attrib.values)\n",
    "plt.show()"
   ]
  },
  {
   "cell_type": "markdown",
   "metadata": {
    "papermill": {
     "duration": 0.065637,
     "end_time": "2021-02-01T12:08:58.617404",
     "exception": false,
     "start_time": "2021-02-01T12:08:58.551767",
     "status": "completed"
    },
    "tags": []
   },
   "source": [
    "# Create new features "
   ]
  },
  {
   "cell_type": "markdown",
   "metadata": {
    "papermill": {
     "duration": 0.067734,
     "end_time": "2021-02-01T12:08:58.751014",
     "exception": false,
     "start_time": "2021-02-01T12:08:58.683280",
     "status": "completed"
    },
    "tags": []
   },
   "source": [
    "Names, which is currently unique across the dataset, can be engineered to extract titles and test correlation between titles and survival, before dropping Name and PassengerId features."
   ]
  },
  {
   "cell_type": "code",
   "execution_count": 24,
   "metadata": {
    "execution": {
     "iopub.execute_input": "2021-02-01T12:08:58.897018Z",
     "iopub.status.busy": "2021-02-01T12:08:58.896314Z",
     "iopub.status.idle": "2021-02-01T12:08:58.899961Z",
     "shell.execute_reply": "2021-02-01T12:08:58.899328Z"
    },
    "papermill": {
     "duration": 0.078856,
     "end_time": "2021-02-01T12:08:58.900103",
     "exception": false,
     "start_time": "2021-02-01T12:08:58.821247",
     "status": "completed"
    },
    "tags": []
   },
   "outputs": [
    {
     "name": "stdout",
     "output_type": "stream",
     "text": [
      "Train data shapes: (891, 10)\n",
      "Train data shapes: (418, 9)\n"
     ]
    }
   ],
   "source": [
    "train_data = train_data.drop(['Ticket', 'Cabin'], axis=1)\n",
    "test_data = test_data.drop(['Ticket', 'Cabin'], axis=1)\n",
    "data = [train_data, test_data]\n",
    "\n",
    "print(f\"Train data shapes: {data[0].shape}\")\n",
    "print(f\"Train data shapes: {data[1].shape}\")"
   ]
  },
  {
   "cell_type": "code",
   "execution_count": 25,
   "metadata": {
    "execution": {
     "iopub.execute_input": "2021-02-01T12:08:59.056281Z",
     "iopub.status.busy": "2021-02-01T12:08:59.051938Z",
     "iopub.status.idle": "2021-02-01T12:08:59.061335Z",
     "shell.execute_reply": "2021-02-01T12:08:59.060613Z"
    },
    "papermill": {
     "duration": 0.093433,
     "end_time": "2021-02-01T12:08:59.061495",
     "exception": false,
     "start_time": "2021-02-01T12:08:58.968062",
     "status": "completed"
    },
    "tags": []
   },
   "outputs": [
    {
     "name": "stdout",
     "output_type": "stream",
     "text": [
      "      Prefix  Survived\n",
      "0       Capt         1\n",
      "1        Col         2\n",
      "2   Countess         1\n",
      "3        Don         1\n",
      "4         Dr         7\n",
      "5   Jonkheer         1\n",
      "6       Lady         1\n",
      "7      Major         2\n",
      "8     Master        40\n",
      "9       Miss       182\n",
      "10      Mlle         2\n",
      "11       Mme         1\n",
      "12        Mr       517\n",
      "13       Mrs       125\n",
      "14        Ms         1\n",
      "15       Rev         6\n",
      "16       Sir         1\n"
     ]
    }
   ],
   "source": [
    "for dataset in data:\n",
    "    dataset['Prefix'] = dataset.Name.str.extract(' ([A-Za-z]+)\\.', expand=False)\n",
    "    \n",
    "print(train_data[['Prefix', 'Survived']].groupby('Prefix').aggregate('count').reset_index())"
   ]
  },
  {
   "cell_type": "code",
   "execution_count": 26,
   "metadata": {
    "execution": {
     "iopub.execute_input": "2021-02-01T12:08:59.220911Z",
     "iopub.status.busy": "2021-02-01T12:08:59.217697Z",
     "iopub.status.idle": "2021-02-01T12:08:59.245279Z",
     "shell.execute_reply": "2021-02-01T12:08:59.243703Z"
    },
    "papermill": {
     "duration": 0.108182,
     "end_time": "2021-02-01T12:08:59.245613",
     "exception": false,
     "start_time": "2021-02-01T12:08:59.137431",
     "status": "completed"
    },
    "tags": []
   },
   "outputs": [
    {
     "name": "stdout",
     "output_type": "stream",
     "text": [
      "    Prefix  Survived\n",
      "0   Master        40\n",
      "1     Miss       185\n",
      "2       Mr       517\n",
      "3      Mrs       126\n",
      "4  Unknown        23\n",
      "--------------------\n",
      "    Prefix  Survived\n",
      "0   Master  0.575000\n",
      "1     Miss  0.702703\n",
      "2       Mr  0.156673\n",
      "3      Mrs  0.793651\n",
      "4  Unknown  0.347826\n"
     ]
    }
   ],
   "source": [
    "for dataset in data:\n",
    "    dataset['Prefix'] = dataset['Prefix'].replace('Mlle', 'Miss')\n",
    "    dataset['Prefix'] = dataset['Prefix'].replace('Ms', 'Miss')\n",
    "    dataset['Prefix'] = dataset['Prefix'].replace('Mme', 'Mrs')\n",
    "    dataset['Prefix'] = dataset['Prefix'].replace(['Lady', 'Countess','Capt', \n",
    "                                             'Col','Don', 'Dr', 'Major', 'Rev', 'Sir', \n",
    "                                             'Jonkheer', 'Dona'], 'Unknown')\n",
    "\n",
    "print(train_data[['Prefix', 'Survived']].groupby('Prefix').aggregate('count').reset_index())\n",
    "print('-'*20)\n",
    "print(train_data[['Prefix', 'Survived']].groupby(['Prefix'], as_index=False).mean())"
   ]
  },
  {
   "cell_type": "code",
   "execution_count": 27,
   "metadata": {
    "execution": {
     "iopub.execute_input": "2021-02-01T12:08:59.396449Z",
     "iopub.status.busy": "2021-02-01T12:08:59.395528Z",
     "iopub.status.idle": "2021-02-01T12:08:59.398510Z",
     "shell.execute_reply": "2021-02-01T12:08:59.399071Z"
    },
    "papermill": {
     "duration": 0.08611,
     "end_time": "2021-02-01T12:08:59.399278",
     "exception": false,
     "start_time": "2021-02-01T12:08:59.313168",
     "status": "completed"
    },
    "tags": []
   },
   "outputs": [
    {
     "data": {
      "text/plain": [
       "1    517\n",
       "2    185\n",
       "3    126\n",
       "4     40\n",
       "5     23\n",
       "Name: Prefix, dtype: int64"
      ]
     },
     "execution_count": 27,
     "metadata": {},
     "output_type": "execute_result"
    }
   ],
   "source": [
    "title_mapping = {\"Mr\": 1, \"Miss\": 2, \"Mrs\": 3, \"Master\": 4, \"Unknown\": 5}\n",
    "for dataset in data:\n",
    "    dataset['Prefix'] = dataset['Prefix'].map(title_mapping)\n",
    "    dataset['Prefix'] = dataset['Prefix'].fillna(0)\n",
    "\n",
    "train_data['Prefix'].value_counts()"
   ]
  },
  {
   "cell_type": "markdown",
   "metadata": {
    "papermill": {
     "duration": 0.071129,
     "end_time": "2021-02-01T12:08:59.541377",
     "exception": false,
     "start_time": "2021-02-01T12:08:59.470248",
     "status": "completed"
    },
    "tags": []
   },
   "source": [
    "We can now remove the Name columns from the test and train datasets and make the PassengerID the index"
   ]
  },
  {
   "cell_type": "code",
   "execution_count": 28,
   "metadata": {
    "execution": {
     "iopub.execute_input": "2021-02-01T12:08:59.689635Z",
     "iopub.status.busy": "2021-02-01T12:08:59.688887Z",
     "iopub.status.idle": "2021-02-01T12:08:59.698730Z",
     "shell.execute_reply": "2021-02-01T12:08:59.698048Z"
    },
    "papermill": {
     "duration": 0.0843,
     "end_time": "2021-02-01T12:08:59.698959",
     "exception": false,
     "start_time": "2021-02-01T12:08:59.614659",
     "status": "completed"
    },
    "tags": []
   },
   "outputs": [],
   "source": [
    "train_data = train_data.drop([\"Name\"], axis=1)\n",
    "test_data = test_data.drop([\"Name\"], axis=1)\n",
    "train_data.set_index('PassengerId', inplace=True)"
   ]
  },
  {
   "cell_type": "code",
   "execution_count": 29,
   "metadata": {
    "execution": {
     "iopub.execute_input": "2021-02-01T12:08:59.856884Z",
     "iopub.status.busy": "2021-02-01T12:08:59.855699Z",
     "iopub.status.idle": "2021-02-01T12:08:59.860176Z",
     "shell.execute_reply": "2021-02-01T12:08:59.860722Z"
    },
    "papermill": {
     "duration": 0.091419,
     "end_time": "2021-02-01T12:08:59.860934",
     "exception": false,
     "start_time": "2021-02-01T12:08:59.769515",
     "status": "completed"
    },
    "tags": []
   },
   "outputs": [
    {
     "data": {
      "text/html": [
       "<div>\n",
       "<style scoped>\n",
       "    .dataframe tbody tr th:only-of-type {\n",
       "        vertical-align: middle;\n",
       "    }\n",
       "\n",
       "    .dataframe tbody tr th {\n",
       "        vertical-align: top;\n",
       "    }\n",
       "\n",
       "    .dataframe thead th {\n",
       "        text-align: right;\n",
       "    }\n",
       "</style>\n",
       "<table border=\"1\" class=\"dataframe\">\n",
       "  <thead>\n",
       "    <tr style=\"text-align: right;\">\n",
       "      <th></th>\n",
       "      <th>Survived</th>\n",
       "      <th>Pclass</th>\n",
       "      <th>Sex</th>\n",
       "      <th>Age</th>\n",
       "      <th>SibSp</th>\n",
       "      <th>Parch</th>\n",
       "      <th>Fare</th>\n",
       "      <th>Embarked</th>\n",
       "      <th>Prefix</th>\n",
       "    </tr>\n",
       "    <tr>\n",
       "      <th>PassengerId</th>\n",
       "      <th></th>\n",
       "      <th></th>\n",
       "      <th></th>\n",
       "      <th></th>\n",
       "      <th></th>\n",
       "      <th></th>\n",
       "      <th></th>\n",
       "      <th></th>\n",
       "      <th></th>\n",
       "    </tr>\n",
       "  </thead>\n",
       "  <tbody>\n",
       "    <tr>\n",
       "      <th>1</th>\n",
       "      <td>0</td>\n",
       "      <td>3</td>\n",
       "      <td>male</td>\n",
       "      <td>22.0</td>\n",
       "      <td>1</td>\n",
       "      <td>0</td>\n",
       "      <td>7.2500</td>\n",
       "      <td>S</td>\n",
       "      <td>1</td>\n",
       "    </tr>\n",
       "    <tr>\n",
       "      <th>2</th>\n",
       "      <td>1</td>\n",
       "      <td>1</td>\n",
       "      <td>female</td>\n",
       "      <td>38.0</td>\n",
       "      <td>1</td>\n",
       "      <td>0</td>\n",
       "      <td>71.2833</td>\n",
       "      <td>C</td>\n",
       "      <td>3</td>\n",
       "    </tr>\n",
       "    <tr>\n",
       "      <th>3</th>\n",
       "      <td>1</td>\n",
       "      <td>3</td>\n",
       "      <td>female</td>\n",
       "      <td>26.0</td>\n",
       "      <td>0</td>\n",
       "      <td>0</td>\n",
       "      <td>7.9250</td>\n",
       "      <td>S</td>\n",
       "      <td>2</td>\n",
       "    </tr>\n",
       "    <tr>\n",
       "      <th>4</th>\n",
       "      <td>1</td>\n",
       "      <td>1</td>\n",
       "      <td>female</td>\n",
       "      <td>35.0</td>\n",
       "      <td>1</td>\n",
       "      <td>0</td>\n",
       "      <td>53.1000</td>\n",
       "      <td>S</td>\n",
       "      <td>3</td>\n",
       "    </tr>\n",
       "    <tr>\n",
       "      <th>5</th>\n",
       "      <td>0</td>\n",
       "      <td>3</td>\n",
       "      <td>male</td>\n",
       "      <td>35.0</td>\n",
       "      <td>0</td>\n",
       "      <td>0</td>\n",
       "      <td>8.0500</td>\n",
       "      <td>S</td>\n",
       "      <td>1</td>\n",
       "    </tr>\n",
       "  </tbody>\n",
       "</table>\n",
       "</div>"
      ],
      "text/plain": [
       "             Survived  Pclass     Sex   Age  SibSp  Parch     Fare Embarked  \\\n",
       "PassengerId                                                                   \n",
       "1                   0       3    male  22.0      1      0   7.2500        S   \n",
       "2                   1       1  female  38.0      1      0  71.2833        C   \n",
       "3                   1       3  female  26.0      0      0   7.9250        S   \n",
       "4                   1       1  female  35.0      1      0  53.1000        S   \n",
       "5                   0       3    male  35.0      0      0   8.0500        S   \n",
       "\n",
       "             Prefix  \n",
       "PassengerId          \n",
       "1                 1  \n",
       "2                 3  \n",
       "3                 2  \n",
       "4                 3  \n",
       "5                 1  "
      ]
     },
     "execution_count": 29,
     "metadata": {},
     "output_type": "execute_result"
    }
   ],
   "source": [
    "train_data.head()"
   ]
  },
  {
   "cell_type": "markdown",
   "metadata": {
    "papermill": {
     "duration": 0.071398,
     "end_time": "2021-02-01T12:09:00.004929",
     "exception": false,
     "start_time": "2021-02-01T12:08:59.933531",
     "status": "completed"
    },
    "tags": []
   },
   "source": [
    "**Create new features:**\n",
    "\n",
    "Transforming continuous numeric features into a discrete number of bands:\n",
    "\n",
    "* Age \n",
    "* Fare"
   ]
  },
  {
   "cell_type": "code",
   "execution_count": 30,
   "metadata": {
    "execution": {
     "iopub.execute_input": "2021-02-01T12:09:00.147859Z",
     "iopub.status.busy": "2021-02-01T12:09:00.146851Z",
     "iopub.status.idle": "2021-02-01T12:09:00.178260Z",
     "shell.execute_reply": "2021-02-01T12:09:00.177709Z"
    },
    "papermill": {
     "duration": 0.104634,
     "end_time": "2021-02-01T12:09:00.178393",
     "exception": false,
     "start_time": "2021-02-01T12:09:00.073759",
     "status": "completed"
    },
    "tags": []
   },
   "outputs": [
    {
     "data": {
      "text/html": [
       "<div>\n",
       "<style scoped>\n",
       "    .dataframe tbody tr th:only-of-type {\n",
       "        vertical-align: middle;\n",
       "    }\n",
       "\n",
       "    .dataframe tbody tr th {\n",
       "        vertical-align: top;\n",
       "    }\n",
       "\n",
       "    .dataframe thead th {\n",
       "        text-align: right;\n",
       "    }\n",
       "</style>\n",
       "<table border=\"1\" class=\"dataframe\">\n",
       "  <thead>\n",
       "    <tr style=\"text-align: right;\">\n",
       "      <th></th>\n",
       "      <th>AgeCat</th>\n",
       "      <th>Survived</th>\n",
       "    </tr>\n",
       "  </thead>\n",
       "  <tbody>\n",
       "    <tr>\n",
       "      <th>0</th>\n",
       "      <td>(0.34, 13.683]</td>\n",
       "      <td>0.591549</td>\n",
       "    </tr>\n",
       "    <tr>\n",
       "      <th>1</th>\n",
       "      <td>(13.683, 26.947]</td>\n",
       "      <td>0.354839</td>\n",
       "    </tr>\n",
       "    <tr>\n",
       "      <th>2</th>\n",
       "      <td>(26.947, 40.21]</td>\n",
       "      <td>0.372038</td>\n",
       "    </tr>\n",
       "    <tr>\n",
       "      <th>3</th>\n",
       "      <td>(40.21, 53.473]</td>\n",
       "      <td>0.390000</td>\n",
       "    </tr>\n",
       "    <tr>\n",
       "      <th>4</th>\n",
       "      <td>(53.473, 66.737]</td>\n",
       "      <td>0.348837</td>\n",
       "    </tr>\n",
       "    <tr>\n",
       "      <th>5</th>\n",
       "      <td>(66.737, 80.0]</td>\n",
       "      <td>0.142857</td>\n",
       "    </tr>\n",
       "  </tbody>\n",
       "</table>\n",
       "</div>"
      ],
      "text/plain": [
       "             AgeCat  Survived\n",
       "0    (0.34, 13.683]  0.591549\n",
       "1  (13.683, 26.947]  0.354839\n",
       "2   (26.947, 40.21]  0.372038\n",
       "3   (40.21, 53.473]  0.390000\n",
       "4  (53.473, 66.737]  0.348837\n",
       "5    (66.737, 80.0]  0.142857"
      ]
     },
     "execution_count": 30,
     "metadata": {},
     "output_type": "execute_result"
    }
   ],
   "source": [
    "# Fill Age NaN's\n",
    "median_age = train_data['Age'].median() \n",
    "train_data['Age'].fillna(median_age, inplace=True) # fill with median age \n",
    "# Fill test NaN'S\n",
    "med_age = test_data['Age'].median() \n",
    "test_data['Age'].fillna(med_age, inplace=True) # fill with median age \n",
    "\n",
    "# Cut age into 6 discrete bands \n",
    "train_data['AgeCat'] = pd.cut(train_data['Age'], 6)\n",
    "train_data[['AgeCat', 'Survived']].groupby(['AgeCat'], as_index=False).mean().sort_values(by='AgeCat', ascending=True)"
   ]
  },
  {
   "cell_type": "markdown",
   "metadata": {
    "papermill": {
     "duration": 0.070393,
     "end_time": "2021-02-01T12:09:00.318873",
     "exception": false,
     "start_time": "2021-02-01T12:09:00.248480",
     "status": "completed"
    },
    "tags": []
   },
   "source": [
    "Replace age with ordinal categories.\n"
   ]
  },
  {
   "cell_type": "code",
   "execution_count": 31,
   "metadata": {
    "execution": {
     "iopub.execute_input": "2021-02-01T12:09:00.476257Z",
     "iopub.status.busy": "2021-02-01T12:09:00.475265Z",
     "iopub.status.idle": "2021-02-01T12:09:00.493904Z",
     "shell.execute_reply": "2021-02-01T12:09:00.493294Z"
    },
    "papermill": {
     "duration": 0.104287,
     "end_time": "2021-02-01T12:09:00.494054",
     "exception": false,
     "start_time": "2021-02-01T12:09:00.389767",
     "status": "completed"
    },
    "tags": []
   },
   "outputs": [],
   "source": [
    "category = pd.cut(train_data['Age'], bins=[0, 14, 27, 40, 53, 67, 99], labels=[0, 1, 2, 3, 4, 5])\n",
    "train_data.insert(5, 'AgeOrd', category)\n",
    "# drop AgeCat\n",
    "train_data = train_data.drop(['AgeCat','Age'], axis=1)\n",
    "\n",
    "cat = pd.cut(test_data['Age'], bins=[0, 14, 27, 40, 53, 67, 99], labels=[0, 1, 2, 3, 4, 5])\n",
    "test_data.insert(5, 'AgeOrd', cat)\n",
    "test_data = test_data.drop(['Age'], axis=1)"
   ]
  },
  {
   "cell_type": "markdown",
   "metadata": {
    "papermill": {
     "duration": 0.079314,
     "end_time": "2021-02-01T12:09:00.656513",
     "exception": false,
     "start_time": "2021-02-01T12:09:00.577199",
     "status": "completed"
    },
    "tags": []
   },
   "source": [
    "View the relationship between fare categories and survival. \n",
    "\n",
    "Fare has a very tail heavy scew. "
   ]
  },
  {
   "cell_type": "code",
   "execution_count": 32,
   "metadata": {
    "execution": {
     "iopub.execute_input": "2021-02-01T12:09:00.803294Z",
     "iopub.status.busy": "2021-02-01T12:09:00.802588Z",
     "iopub.status.idle": "2021-02-01T12:09:00.822443Z",
     "shell.execute_reply": "2021-02-01T12:09:00.822925Z"
    },
    "papermill": {
     "duration": 0.094152,
     "end_time": "2021-02-01T12:09:00.823098",
     "exception": false,
     "start_time": "2021-02-01T12:09:00.728946",
     "status": "completed"
    },
    "tags": []
   },
   "outputs": [
    {
     "data": {
      "text/html": [
       "<div>\n",
       "<style scoped>\n",
       "    .dataframe tbody tr th:only-of-type {\n",
       "        vertical-align: middle;\n",
       "    }\n",
       "\n",
       "    .dataframe tbody tr th {\n",
       "        vertical-align: top;\n",
       "    }\n",
       "\n",
       "    .dataframe thead th {\n",
       "        text-align: right;\n",
       "    }\n",
       "</style>\n",
       "<table border=\"1\" class=\"dataframe\">\n",
       "  <thead>\n",
       "    <tr style=\"text-align: right;\">\n",
       "      <th></th>\n",
       "      <th>FareCat</th>\n",
       "      <th>Survived</th>\n",
       "    </tr>\n",
       "  </thead>\n",
       "  <tbody>\n",
       "    <tr>\n",
       "      <th>0</th>\n",
       "      <td>(-0.001, 7.91]</td>\n",
       "      <td>0.197309</td>\n",
       "    </tr>\n",
       "    <tr>\n",
       "      <th>1</th>\n",
       "      <td>(7.91, 14.454]</td>\n",
       "      <td>0.303571</td>\n",
       "    </tr>\n",
       "    <tr>\n",
       "      <th>2</th>\n",
       "      <td>(14.454, 31.0]</td>\n",
       "      <td>0.454955</td>\n",
       "    </tr>\n",
       "    <tr>\n",
       "      <th>3</th>\n",
       "      <td>(31.0, 512.329]</td>\n",
       "      <td>0.581081</td>\n",
       "    </tr>\n",
       "  </tbody>\n",
       "</table>\n",
       "</div>"
      ],
      "text/plain": [
       "           FareCat  Survived\n",
       "0   (-0.001, 7.91]  0.197309\n",
       "1   (7.91, 14.454]  0.303571\n",
       "2   (14.454, 31.0]  0.454955\n",
       "3  (31.0, 512.329]  0.581081"
      ]
     },
     "execution_count": 32,
     "metadata": {},
     "output_type": "execute_result"
    }
   ],
   "source": [
    "# Cut Fare into 4 discrete bands; use qcut to account for tr\n",
    "train_data['FareCat'] = pd.qcut(train_data['Fare'], 4)\n",
    "train_data[['FareCat', 'Survived']].groupby(['FareCat'], as_index=False).mean().sort_values(by='FareCat', ascending=True)"
   ]
  },
  {
   "cell_type": "code",
   "execution_count": 33,
   "metadata": {
    "execution": {
     "iopub.execute_input": "2021-02-01T12:09:00.967363Z",
     "iopub.status.busy": "2021-02-01T12:09:00.966725Z",
     "iopub.status.idle": "2021-02-01T12:09:00.975798Z",
     "shell.execute_reply": "2021-02-01T12:09:00.976264Z"
    },
    "papermill": {
     "duration": 0.083415,
     "end_time": "2021-02-01T12:09:00.976462",
     "exception": false,
     "start_time": "2021-02-01T12:09:00.893047",
     "status": "completed"
    },
    "tags": []
   },
   "outputs": [],
   "source": [
    "cats = pd.cut(train_data['Fare'], bins=[-0.001, 8, 15, 31, 999], labels=[0, 1, 2, 3])\n",
    "train_data.insert(5, 'FareDiscr', cats)\n",
    "train_data = train_data.drop(['FareCat', 'Fare'], axis=1)"
   ]
  },
  {
   "cell_type": "code",
   "execution_count": 34,
   "metadata": {
    "execution": {
     "iopub.execute_input": "2021-02-01T12:09:01.121429Z",
     "iopub.status.busy": "2021-02-01T12:09:01.120815Z",
     "iopub.status.idle": "2021-02-01T12:09:01.129441Z",
     "shell.execute_reply": "2021-02-01T12:09:01.128839Z"
    },
    "papermill": {
     "duration": 0.081065,
     "end_time": "2021-02-01T12:09:01.129597",
     "exception": false,
     "start_time": "2021-02-01T12:09:01.048532",
     "status": "completed"
    },
    "tags": []
   },
   "outputs": [],
   "source": [
    "categ = pd.cut(test_data['Fare'], bins=[0, 8, 15, 31, 999], labels=[0, 1, 2, 3])\n",
    "test_data.insert(5, 'FareDiscr', categ)\n",
    "test_data = test_data.drop(['Fare'], axis=1)"
   ]
  },
  {
   "cell_type": "markdown",
   "metadata": {
    "papermill": {
     "duration": 0.071698,
     "end_time": "2021-02-01T12:09:01.271652",
     "exception": false,
     "start_time": "2021-02-01T12:09:01.199954",
     "status": "completed"
    },
    "tags": []
   },
   "source": [
    "***Combining Parch and Sibsp to create a variable for the number of relatives on board.***\n",
    "\n",
    "sibsp: number of siblings / spouses aboard the Titanic\n",
    "Sibling = brother, sister, stepbrother, stepsister\n",
    "Spouse = husband, wife (mistresses and fiancés were ignored)\n",
    "\n",
    "parch: number of parents / children aboard the Titanic\n",
    "Parent = mother, father\n",
    "Child = daughter, son, stepdaughter, stepson\n",
    "Some children travelled only with a nanny, therefore parch=0 for them."
   ]
  },
  {
   "cell_type": "code",
   "execution_count": 35,
   "metadata": {
    "execution": {
     "iopub.execute_input": "2021-02-01T12:09:01.433052Z",
     "iopub.status.busy": "2021-02-01T12:09:01.432043Z",
     "iopub.status.idle": "2021-02-01T12:09:01.435890Z",
     "shell.execute_reply": "2021-02-01T12:09:01.436357Z"
    },
    "papermill": {
     "duration": 0.094213,
     "end_time": "2021-02-01T12:09:01.436533",
     "exception": false,
     "start_time": "2021-02-01T12:09:01.342320",
     "status": "completed"
    },
    "tags": []
   },
   "outputs": [
    {
     "data": {
      "text/html": [
       "<div>\n",
       "<style scoped>\n",
       "    .dataframe tbody tr th:only-of-type {\n",
       "        vertical-align: middle;\n",
       "    }\n",
       "\n",
       "    .dataframe tbody tr th {\n",
       "        vertical-align: top;\n",
       "    }\n",
       "\n",
       "    .dataframe thead th {\n",
       "        text-align: right;\n",
       "    }\n",
       "</style>\n",
       "<table border=\"1\" class=\"dataframe\">\n",
       "  <thead>\n",
       "    <tr style=\"text-align: right;\">\n",
       "      <th></th>\n",
       "      <th>NumFamilyMems</th>\n",
       "      <th>Survived</th>\n",
       "    </tr>\n",
       "  </thead>\n",
       "  <tbody>\n",
       "    <tr>\n",
       "      <th>3</th>\n",
       "      <td>4</td>\n",
       "      <td>0.724138</td>\n",
       "    </tr>\n",
       "    <tr>\n",
       "      <th>2</th>\n",
       "      <td>3</td>\n",
       "      <td>0.578431</td>\n",
       "    </tr>\n",
       "    <tr>\n",
       "      <th>1</th>\n",
       "      <td>2</td>\n",
       "      <td>0.552795</td>\n",
       "    </tr>\n",
       "    <tr>\n",
       "      <th>6</th>\n",
       "      <td>7</td>\n",
       "      <td>0.333333</td>\n",
       "    </tr>\n",
       "    <tr>\n",
       "      <th>0</th>\n",
       "      <td>1</td>\n",
       "      <td>0.303538</td>\n",
       "    </tr>\n",
       "    <tr>\n",
       "      <th>4</th>\n",
       "      <td>5</td>\n",
       "      <td>0.200000</td>\n",
       "    </tr>\n",
       "    <tr>\n",
       "      <th>5</th>\n",
       "      <td>6</td>\n",
       "      <td>0.136364</td>\n",
       "    </tr>\n",
       "    <tr>\n",
       "      <th>7</th>\n",
       "      <td>8</td>\n",
       "      <td>0.000000</td>\n",
       "    </tr>\n",
       "    <tr>\n",
       "      <th>8</th>\n",
       "      <td>11</td>\n",
       "      <td>0.000000</td>\n",
       "    </tr>\n",
       "  </tbody>\n",
       "</table>\n",
       "</div>"
      ],
      "text/plain": [
       "   NumFamilyMems  Survived\n",
       "3              4  0.724138\n",
       "2              3  0.578431\n",
       "1              2  0.552795\n",
       "6              7  0.333333\n",
       "0              1  0.303538\n",
       "4              5  0.200000\n",
       "5              6  0.136364\n",
       "7              8  0.000000\n",
       "8             11  0.000000"
      ]
     },
     "execution_count": 35,
     "metadata": {},
     "output_type": "execute_result"
    }
   ],
   "source": [
    "train_data['NumFamilyMems'] = train_data['SibSp'] + train_data['Parch'] + 1\n",
    "\n",
    "# check the number of survivors depending on group size\n",
    "train_data[['NumFamilyMems', 'Survived']].groupby('NumFamilyMems').aggregate('count').sort_values(by='Survived', ascending=False)\n",
    "# check the mean survived based on group size\n",
    "train_data[['NumFamilyMems', 'Survived']].groupby(['NumFamilyMems'], as_index=False).mean().sort_values(by='Survived', ascending=False)"
   ]
  },
  {
   "cell_type": "code",
   "execution_count": 36,
   "metadata": {
    "execution": {
     "iopub.execute_input": "2021-02-01T12:09:01.582254Z",
     "iopub.status.busy": "2021-02-01T12:09:01.581214Z",
     "iopub.status.idle": "2021-02-01T12:09:01.587540Z",
     "shell.execute_reply": "2021-02-01T12:09:01.587021Z"
    },
    "papermill": {
     "duration": 0.080491,
     "end_time": "2021-02-01T12:09:01.587710",
     "exception": false,
     "start_time": "2021-02-01T12:09:01.507219",
     "status": "completed"
    },
    "tags": []
   },
   "outputs": [],
   "source": [
    "test_data['NumFamilyMems'] = test_data['SibSp'] + test_data['Parch'] + 1"
   ]
  },
  {
   "cell_type": "markdown",
   "metadata": {
    "papermill": {
     "duration": 0.071453,
     "end_time": "2021-02-01T12:09:01.730173",
     "exception": false,
     "start_time": "2021-02-01T12:09:01.658720",
     "status": "completed"
    },
    "tags": []
   },
   "source": [
    "Remove SibSp and Parch"
   ]
  },
  {
   "cell_type": "code",
   "execution_count": 37,
   "metadata": {
    "execution": {
     "iopub.execute_input": "2021-02-01T12:09:01.886475Z",
     "iopub.status.busy": "2021-02-01T12:09:01.885785Z",
     "iopub.status.idle": "2021-02-01T12:09:01.889500Z",
     "shell.execute_reply": "2021-02-01T12:09:01.888822Z"
    },
    "papermill": {
     "duration": 0.084677,
     "end_time": "2021-02-01T12:09:01.889839",
     "exception": false,
     "start_time": "2021-02-01T12:09:01.805162",
     "status": "completed"
    },
    "tags": []
   },
   "outputs": [],
   "source": [
    "train_data = train_data.drop(['SibSp', 'Parch'], axis=1)\n",
    "test_data = test_data.drop(['SibSp', 'Parch'], axis=1)"
   ]
  },
  {
   "cell_type": "code",
   "execution_count": 38,
   "metadata": {
    "execution": {
     "iopub.execute_input": "2021-02-01T12:09:02.051504Z",
     "iopub.status.busy": "2021-02-01T12:09:02.048449Z",
     "iopub.status.idle": "2021-02-01T12:09:02.056301Z",
     "shell.execute_reply": "2021-02-01T12:09:02.055677Z"
    },
    "papermill": {
     "duration": 0.091925,
     "end_time": "2021-02-01T12:09:02.056441",
     "exception": false,
     "start_time": "2021-02-01T12:09:01.964516",
     "status": "completed"
    },
    "tags": []
   },
   "outputs": [
    {
     "data": {
      "text/html": [
       "<div>\n",
       "<style scoped>\n",
       "    .dataframe tbody tr th:only-of-type {\n",
       "        vertical-align: middle;\n",
       "    }\n",
       "\n",
       "    .dataframe tbody tr th {\n",
       "        vertical-align: top;\n",
       "    }\n",
       "\n",
       "    .dataframe thead th {\n",
       "        text-align: right;\n",
       "    }\n",
       "</style>\n",
       "<table border=\"1\" class=\"dataframe\">\n",
       "  <thead>\n",
       "    <tr style=\"text-align: right;\">\n",
       "      <th></th>\n",
       "      <th>Survived</th>\n",
       "      <th>Pclass</th>\n",
       "      <th>Sex</th>\n",
       "      <th>AgeOrd</th>\n",
       "      <th>FareDiscr</th>\n",
       "      <th>Embarked</th>\n",
       "      <th>Prefix</th>\n",
       "      <th>NumFamilyMems</th>\n",
       "    </tr>\n",
       "    <tr>\n",
       "      <th>PassengerId</th>\n",
       "      <th></th>\n",
       "      <th></th>\n",
       "      <th></th>\n",
       "      <th></th>\n",
       "      <th></th>\n",
       "      <th></th>\n",
       "      <th></th>\n",
       "      <th></th>\n",
       "    </tr>\n",
       "  </thead>\n",
       "  <tbody>\n",
       "    <tr>\n",
       "      <th>1</th>\n",
       "      <td>0</td>\n",
       "      <td>3</td>\n",
       "      <td>male</td>\n",
       "      <td>1</td>\n",
       "      <td>0</td>\n",
       "      <td>S</td>\n",
       "      <td>1</td>\n",
       "      <td>2</td>\n",
       "    </tr>\n",
       "    <tr>\n",
       "      <th>2</th>\n",
       "      <td>1</td>\n",
       "      <td>1</td>\n",
       "      <td>female</td>\n",
       "      <td>2</td>\n",
       "      <td>3</td>\n",
       "      <td>C</td>\n",
       "      <td>3</td>\n",
       "      <td>2</td>\n",
       "    </tr>\n",
       "    <tr>\n",
       "      <th>3</th>\n",
       "      <td>1</td>\n",
       "      <td>3</td>\n",
       "      <td>female</td>\n",
       "      <td>1</td>\n",
       "      <td>0</td>\n",
       "      <td>S</td>\n",
       "      <td>2</td>\n",
       "      <td>1</td>\n",
       "    </tr>\n",
       "    <tr>\n",
       "      <th>4</th>\n",
       "      <td>1</td>\n",
       "      <td>1</td>\n",
       "      <td>female</td>\n",
       "      <td>2</td>\n",
       "      <td>3</td>\n",
       "      <td>S</td>\n",
       "      <td>3</td>\n",
       "      <td>2</td>\n",
       "    </tr>\n",
       "    <tr>\n",
       "      <th>5</th>\n",
       "      <td>0</td>\n",
       "      <td>3</td>\n",
       "      <td>male</td>\n",
       "      <td>2</td>\n",
       "      <td>1</td>\n",
       "      <td>S</td>\n",
       "      <td>1</td>\n",
       "      <td>1</td>\n",
       "    </tr>\n",
       "  </tbody>\n",
       "</table>\n",
       "</div>"
      ],
      "text/plain": [
       "             Survived  Pclass     Sex AgeOrd FareDiscr Embarked  Prefix  \\\n",
       "PassengerId                                                               \n",
       "1                   0       3    male      1         0        S       1   \n",
       "2                   1       1  female      2         3        C       3   \n",
       "3                   1       3  female      1         0        S       2   \n",
       "4                   1       1  female      2         3        S       3   \n",
       "5                   0       3    male      2         1        S       1   \n",
       "\n",
       "             NumFamilyMems  \n",
       "PassengerId                 \n",
       "1                        2  \n",
       "2                        2  \n",
       "3                        1  \n",
       "4                        2  \n",
       "5                        1  "
      ]
     },
     "execution_count": 38,
     "metadata": {},
     "output_type": "execute_result"
    }
   ],
   "source": [
    "train_data.head()"
   ]
  },
  {
   "cell_type": "markdown",
   "metadata": {
    "papermill": {
     "duration": 0.076661,
     "end_time": "2021-02-01T12:09:02.204962",
     "exception": false,
     "start_time": "2021-02-01T12:09:02.128301",
     "status": "completed"
    },
    "tags": []
   },
   "source": [
    "# Preprocessing\n",
    "\n",
    "Encoding categorical features (sex, embarked) and deal with remaining missing values."
   ]
  },
  {
   "cell_type": "code",
   "execution_count": 39,
   "metadata": {
    "execution": {
     "iopub.execute_input": "2021-02-01T12:09:02.382840Z",
     "iopub.status.busy": "2021-02-01T12:09:02.374605Z",
     "iopub.status.idle": "2021-02-01T12:09:02.403738Z",
     "shell.execute_reply": "2021-02-01T12:09:02.402947Z"
    },
    "papermill": {
     "duration": 0.11987,
     "end_time": "2021-02-01T12:09:02.403930",
     "exception": false,
     "start_time": "2021-02-01T12:09:02.284060",
     "status": "completed"
    },
    "tags": []
   },
   "outputs": [
    {
     "name": "stdout",
     "output_type": "stream",
     "text": [
      "<class 'pandas.core.frame.DataFrame'>\n",
      "Int64Index: 891 entries, 1 to 891\n",
      "Data columns (total 8 columns):\n",
      " #   Column         Non-Null Count  Dtype   \n",
      "---  ------         --------------  -----   \n",
      " 0   Survived       891 non-null    int64   \n",
      " 1   Pclass         891 non-null    int64   \n",
      " 2   Sex            891 non-null    object  \n",
      " 3   AgeOrd         891 non-null    category\n",
      " 4   FareDiscr      891 non-null    category\n",
      " 5   Embarked       889 non-null    object  \n",
      " 6   Prefix         891 non-null    int64   \n",
      " 7   NumFamilyMems  891 non-null    int64   \n",
      "dtypes: category(2), int64(4), object(2)\n",
      "memory usage: 50.9+ KB\n",
      "----------------------------------------\n",
      "<class 'pandas.core.frame.DataFrame'>\n",
      "RangeIndex: 418 entries, 0 to 417\n",
      "Data columns (total 8 columns):\n",
      " #   Column         Non-Null Count  Dtype   \n",
      "---  ------         --------------  -----   \n",
      " 0   PassengerId    418 non-null    int64   \n",
      " 1   Pclass         418 non-null    int64   \n",
      " 2   Sex            418 non-null    object  \n",
      " 3   AgeOrd         418 non-null    category\n",
      " 4   FareDiscr      415 non-null    category\n",
      " 5   Embarked       418 non-null    object  \n",
      " 6   Prefix         418 non-null    int64   \n",
      " 7   NumFamilyMems  418 non-null    int64   \n",
      "dtypes: category(2), int64(4), object(2)\n",
      "memory usage: 20.9+ KB\n"
     ]
    }
   ],
   "source": [
    "train_data.info()\n",
    "print('-'*40)\n",
    "test_data.info()\n",
    "\n",
    "# Fill Embarked NaNs with most common location\n",
    "test_data['FareDiscr'] = test_data['FareDiscr'].fillna(test_data['FareDiscr'].value_counts().index[0])\n",
    "\n",
    "train_data['AgeOrd'] = train_data['AgeOrd'].astype('int64', copy=False)\n",
    "train_data['FareDiscr'] = train_data['FareDiscr'].astype('int64', copy=False)\n",
    "test_data['AgeOrd'] = test_data['AgeOrd'].astype('int64', copy=False)\n",
    "test_data['FareDiscr'] = test_data['FareDiscr'].astype('int64', copy=False)"
   ]
  },
  {
   "cell_type": "markdown",
   "metadata": {
    "papermill": {
     "duration": 0.071548,
     "end_time": "2021-02-01T12:09:02.548638",
     "exception": false,
     "start_time": "2021-02-01T12:09:02.477090",
     "status": "completed"
    },
    "tags": []
   },
   "source": [
    "Fill the missing values in Age and Embarked"
   ]
  },
  {
   "cell_type": "code",
   "execution_count": 40,
   "metadata": {
    "execution": {
     "iopub.execute_input": "2021-02-01T12:09:02.702725Z",
     "iopub.status.busy": "2021-02-01T12:09:02.701978Z",
     "iopub.status.idle": "2021-02-01T12:09:02.706343Z",
     "shell.execute_reply": "2021-02-01T12:09:02.706830Z"
    },
    "papermill": {
     "duration": 0.08596,
     "end_time": "2021-02-01T12:09:02.707007",
     "exception": false,
     "start_time": "2021-02-01T12:09:02.621047",
     "status": "completed"
    },
    "tags": []
   },
   "outputs": [],
   "source": [
    "# Check for missing values \n",
    "train_data.isna().sum()\n",
    "\n",
    "# Fill Embarked NaNs with most common location\n",
    "train_data['Embarked'] = train_data['Embarked'].fillna(train_data['Embarked'].value_counts().index[0])"
   ]
  },
  {
   "cell_type": "code",
   "execution_count": 41,
   "metadata": {
    "execution": {
     "iopub.execute_input": "2021-02-01T12:09:02.863198Z",
     "iopub.status.busy": "2021-02-01T12:09:02.862564Z",
     "iopub.status.idle": "2021-02-01T12:09:02.866535Z",
     "shell.execute_reply": "2021-02-01T12:09:02.867046Z"
    },
    "papermill": {
     "duration": 0.086803,
     "end_time": "2021-02-01T12:09:02.867343",
     "exception": false,
     "start_time": "2021-02-01T12:09:02.780540",
     "status": "completed"
    },
    "tags": []
   },
   "outputs": [
    {
     "data": {
      "text/plain": [
       "PassengerId      0\n",
       "Pclass           0\n",
       "Sex              0\n",
       "AgeOrd           0\n",
       "FareDiscr        0\n",
       "Embarked         0\n",
       "Prefix           0\n",
       "NumFamilyMems    0\n",
       "dtype: int64"
      ]
     },
     "execution_count": 41,
     "metadata": {},
     "output_type": "execute_result"
    }
   ],
   "source": [
    "# Check for missing values in the test data\n",
    "test_data.isna().sum()"
   ]
  },
  {
   "cell_type": "markdown",
   "metadata": {
    "papermill": {
     "duration": 0.073334,
     "end_time": "2021-02-01T12:09:03.019317",
     "exception": false,
     "start_time": "2021-02-01T12:09:02.945983",
     "status": "completed"
    },
    "tags": []
   },
   "source": [
    "**Use scikit-learn OrdinalEncoder on sex and embarked to change categories to tuple arrays.**"
   ]
  },
  {
   "cell_type": "code",
   "execution_count": 42,
   "metadata": {
    "execution": {
     "iopub.execute_input": "2021-02-01T12:09:03.173867Z",
     "iopub.status.busy": "2021-02-01T12:09:03.167765Z",
     "iopub.status.idle": "2021-02-01T12:09:03.177746Z",
     "shell.execute_reply": "2021-02-01T12:09:03.178293Z"
    },
    "papermill": {
     "duration": 0.086299,
     "end_time": "2021-02-01T12:09:03.178466",
     "exception": false,
     "start_time": "2021-02-01T12:09:03.092167",
     "status": "completed"
    },
    "tags": []
   },
   "outputs": [],
   "source": [
    "data_cat = train_data.select_dtypes(include='object')\n",
    "test_cat = test_data.select_dtypes(include='object')"
   ]
  },
  {
   "cell_type": "code",
   "execution_count": 43,
   "metadata": {
    "execution": {
     "iopub.execute_input": "2021-02-01T12:09:03.337113Z",
     "iopub.status.busy": "2021-02-01T12:09:03.336166Z",
     "iopub.status.idle": "2021-02-01T12:09:03.339267Z",
     "shell.execute_reply": "2021-02-01T12:09:03.338623Z"
    },
    "papermill": {
     "duration": 0.086019,
     "end_time": "2021-02-01T12:09:03.339407",
     "exception": false,
     "start_time": "2021-02-01T12:09:03.253388",
     "status": "completed"
    },
    "tags": []
   },
   "outputs": [],
   "source": [
    "enc = OrdinalEncoder()\n",
    "cat_enc = pd.DataFrame(enc.fit_transform(data_cat), columns=['Sex_enc', 'Embarked_enc'], index=data_cat.index)\n",
    "\n",
    "test_cat_enc = pd.DataFrame(enc.fit_transform(test_cat), columns=['Sex_enc', 'Embarked_enc'], index=test_cat.index)"
   ]
  },
  {
   "cell_type": "code",
   "execution_count": 44,
   "metadata": {
    "execution": {
     "iopub.execute_input": "2021-02-01T12:09:03.498290Z",
     "iopub.status.busy": "2021-02-01T12:09:03.493200Z",
     "iopub.status.idle": "2021-02-01T12:09:03.502429Z",
     "shell.execute_reply": "2021-02-01T12:09:03.501927Z"
    },
    "papermill": {
     "duration": 0.090492,
     "end_time": "2021-02-01T12:09:03.502643",
     "exception": false,
     "start_time": "2021-02-01T12:09:03.412151",
     "status": "completed"
    },
    "tags": []
   },
   "outputs": [
    {
     "name": "stdout",
     "output_type": "stream",
     "text": [
      "Train shape: (891, 7)\n",
      "             Pclass  AgeOrd  FareDiscr  Prefix  NumFamilyMems  Sex_enc  \\\n",
      "PassengerId                                                              \n",
      "1                 3       1          0       1              2      1.0   \n",
      "2                 1       2          3       3              2      0.0   \n",
      "3                 3       1          0       2              1      0.0   \n",
      "4                 1       2          3       3              2      0.0   \n",
      "5                 3       2          1       1              1      1.0   \n",
      "\n",
      "             Embarked_enc  \n",
      "PassengerId                \n",
      "1                     2.0  \n",
      "2                     0.0  \n",
      "3                     2.0  \n",
      "4                     2.0  \n",
      "5                     2.0  \n"
     ]
    }
   ],
   "source": [
    "# Create training datasets \n",
    "X = pd.concat([train_data, cat_enc], axis=1)\n",
    "y = X['Survived'].copy()\n",
    "X = X.drop(['Sex', 'Embarked', 'Survived'], axis=1)\n",
    "\n",
    "print(f\"Train shape: {X.shape}\")\n",
    "print(X.head())"
   ]
  },
  {
   "cell_type": "code",
   "execution_count": 45,
   "metadata": {
    "execution": {
     "iopub.execute_input": "2021-02-01T12:09:03.656640Z",
     "iopub.status.busy": "2021-02-01T12:09:03.655978Z",
     "iopub.status.idle": "2021-02-01T12:09:03.667120Z",
     "shell.execute_reply": "2021-02-01T12:09:03.666527Z"
    },
    "papermill": {
     "duration": 0.090886,
     "end_time": "2021-02-01T12:09:03.667261",
     "exception": false,
     "start_time": "2021-02-01T12:09:03.576375",
     "status": "completed"
    },
    "tags": []
   },
   "outputs": [
    {
     "name": "stdout",
     "output_type": "stream",
     "text": [
      "Test shape: (418, 7)\n",
      "             Pclass  AgeOrd  FareDiscr  Prefix  NumFamilyMems  Sex_enc  \\\n",
      "PassengerId                                                              \n",
      "892               3       2          0       1              1      1.0   \n",
      "893               3       3          0       3              2      0.0   \n",
      "894               2       4          1       1              1      1.0   \n",
      "895               3       1          1       1              1      1.0   \n",
      "896               3       1          1       3              3      0.0   \n",
      "\n",
      "             Embarked_enc  \n",
      "PassengerId                \n",
      "892                   1.0  \n",
      "893                   2.0  \n",
      "894                   1.0  \n",
      "895                   2.0  \n",
      "896                   2.0  \n"
     ]
    }
   ],
   "source": [
    "# Create test dataset \n",
    "test_set = pd.concat([test_data, test_cat_enc], axis=1)\n",
    "test_set = test_set.drop(['Sex', 'Embarked'], axis=1)\n",
    "test_set = test_set.set_index(\"PassengerId\")\n",
    "\n",
    "print(f\"Test shape: {test_set.shape}\")\n",
    "print(test_set.head())"
   ]
  },
  {
   "cell_type": "markdown",
   "metadata": {
    "papermill": {
     "duration": 0.073965,
     "end_time": "2021-02-01T12:09:03.815410",
     "exception": false,
     "start_time": "2021-02-01T12:09:03.741445",
     "status": "completed"
    },
    "tags": []
   },
   "source": [
    "# Model selection, prediction and Evaluation\n",
    "\n",
    "We can now select a classifier. The ones we will test include:\n",
    "\n",
    "* Logistic Regression\n",
    "* Svm \n",
    "* Random Forest Classifiers \n",
    "* XGboost "
   ]
  },
  {
   "cell_type": "markdown",
   "metadata": {
    "papermill": {
     "duration": 0.079181,
     "end_time": "2021-02-01T12:09:03.973863",
     "exception": false,
     "start_time": "2021-02-01T12:09:03.894682",
     "status": "completed"
    },
    "tags": []
   },
   "source": [
    "Set the scorer we will use to compare the models. In this case we will use accuracy. \n"
   ]
  },
  {
   "cell_type": "code",
   "execution_count": 46,
   "metadata": {
    "execution": {
     "iopub.execute_input": "2021-02-01T12:09:04.138951Z",
     "iopub.status.busy": "2021-02-01T12:09:04.138230Z",
     "iopub.status.idle": "2021-02-01T12:09:04.143284Z",
     "shell.execute_reply": "2021-02-01T12:09:04.143979Z"
    },
    "papermill": {
     "duration": 0.08657,
     "end_time": "2021-02-01T12:09:04.144190",
     "exception": false,
     "start_time": "2021-02-01T12:09:04.057620",
     "status": "completed"
    },
    "tags": []
   },
   "outputs": [],
   "source": [
    "# Set the scorer \n",
    "acc = make_scorer(accuracy_score)\n",
    "# Function for the scores, mean and std\n",
    "def display_scores(scores):\n",
    "    print(\"Scores:\", scores)\n",
    "    print(\"Mean:\", scores.mean())\n",
    "    print(\"Standard deviation:\", scores.std())"
   ]
  },
  {
   "cell_type": "markdown",
   "metadata": {
    "papermill": {
     "duration": 0.080025,
     "end_time": "2021-02-01T12:09:04.303259",
     "exception": false,
     "start_time": "2021-02-01T12:09:04.223234",
     "status": "completed"
    },
    "tags": []
   },
   "source": [
    "Split the training data into K-folds"
   ]
  },
  {
   "cell_type": "code",
   "execution_count": 47,
   "metadata": {
    "execution": {
     "iopub.execute_input": "2021-02-01T12:09:04.464292Z",
     "iopub.status.busy": "2021-02-01T12:09:04.463630Z",
     "iopub.status.idle": "2021-02-01T12:09:04.474666Z",
     "shell.execute_reply": "2021-02-01T12:09:04.473958Z"
    },
    "papermill": {
     "duration": 0.094222,
     "end_time": "2021-02-01T12:09:04.474849",
     "exception": false,
     "start_time": "2021-02-01T12:09:04.380627",
     "status": "completed"
    },
    "tags": []
   },
   "outputs": [
    {
     "name": "stderr",
     "output_type": "stream",
     "text": [
      "/opt/conda/lib/python3.7/site-packages/sklearn/model_selection/_split.py:297: FutureWarning: Setting a random_state has no effect since shuffle is False. This will raise an error in 0.24. You should leave random_state to its default (None), or set shuffle=True.\n",
      "  FutureWarning\n"
     ]
    }
   ],
   "source": [
    "kfold = StratifiedKFold(n_splits=5, random_state=42)"
   ]
  },
  {
   "cell_type": "markdown",
   "metadata": {
    "papermill": {
     "duration": 0.082219,
     "end_time": "2021-02-01T12:09:04.634910",
     "exception": false,
     "start_time": "2021-02-01T12:09:04.552691",
     "status": "completed"
    },
    "tags": []
   },
   "source": [
    "**Logistic Regression Classifier**"
   ]
  },
  {
   "cell_type": "code",
   "execution_count": 48,
   "metadata": {
    "execution": {
     "iopub.execute_input": "2021-02-01T12:09:04.808330Z",
     "iopub.status.busy": "2021-02-01T12:09:04.807538Z",
     "iopub.status.idle": "2021-02-01T12:09:04.889504Z",
     "shell.execute_reply": "2021-02-01T12:09:04.890084Z"
    },
    "papermill": {
     "duration": 0.172353,
     "end_time": "2021-02-01T12:09:04.890303",
     "exception": false,
     "start_time": "2021-02-01T12:09:04.717950",
     "status": "completed"
    },
    "tags": []
   },
   "outputs": [
    {
     "name": "stdout",
     "output_type": "stream",
     "text": [
      "Scores: [0.81564246 0.82022472 0.80337079 0.83146067 0.83146067]\n",
      "Mean: 0.8204318624066286\n",
      "Standard deviation: 0.010557755346060198\n"
     ]
    }
   ],
   "source": [
    "lr = LogisticRegression()\n",
    "lr_cv = cross_val_score(lr, X, y, cv=kfold, \n",
    "                       scoring=acc)\n",
    "display_scores(lr_cv)"
   ]
  },
  {
   "cell_type": "markdown",
   "metadata": {
    "papermill": {
     "duration": 0.092419,
     "end_time": "2021-02-01T12:09:05.065139",
     "exception": false,
     "start_time": "2021-02-01T12:09:04.972720",
     "status": "completed"
    },
    "tags": []
   },
   "source": [
    "**Ridge Classifier**"
   ]
  },
  {
   "cell_type": "code",
   "execution_count": 49,
   "metadata": {
    "execution": {
     "iopub.execute_input": "2021-02-01T12:09:05.241689Z",
     "iopub.status.busy": "2021-02-01T12:09:05.240993Z",
     "iopub.status.idle": "2021-02-01T12:09:05.305583Z",
     "shell.execute_reply": "2021-02-01T12:09:05.306118Z"
    },
    "papermill": {
     "duration": 0.153839,
     "end_time": "2021-02-01T12:09:05.306317",
     "exception": false,
     "start_time": "2021-02-01T12:09:05.152478",
     "status": "completed"
    },
    "tags": []
   },
   "outputs": [
    {
     "name": "stdout",
     "output_type": "stream",
     "text": [
      "Scores: [0.82122905 0.81460674 0.79775281 0.79775281 0.81460674]\n",
      "Mean: 0.809189630280585\n",
      "Standard deviation: 0.009646134831504501\n"
     ]
    }
   ],
   "source": [
    "ridge = RidgeClassifier()\n",
    "ridge_cv = cross_val_score(ridge, X, y, cv=kfold,\n",
    "                          scoring=acc)\n",
    "display_scores(ridge_cv)"
   ]
  },
  {
   "cell_type": "markdown",
   "metadata": {
    "papermill": {
     "duration": 0.077332,
     "end_time": "2021-02-01T12:09:05.462098",
     "exception": false,
     "start_time": "2021-02-01T12:09:05.384766",
     "status": "completed"
    },
    "tags": []
   },
   "source": [
    "**Random Forest Classifier**"
   ]
  },
  {
   "cell_type": "code",
   "execution_count": 50,
   "metadata": {
    "execution": {
     "iopub.execute_input": "2021-02-01T12:09:05.617928Z",
     "iopub.status.busy": "2021-02-01T12:09:05.617282Z",
     "iopub.status.idle": "2021-02-01T12:09:09.204385Z",
     "shell.execute_reply": "2021-02-01T12:09:09.205045Z"
    },
    "papermill": {
     "duration": 3.666514,
     "end_time": "2021-02-01T12:09:09.205228",
     "exception": false,
     "start_time": "2021-02-01T12:09:05.538714",
     "status": "completed"
    },
    "tags": []
   },
   "outputs": [
    {
     "name": "stdout",
     "output_type": "stream",
     "text": [
      "Scores: [0.81005587 0.80337079 0.84831461 0.79775281 0.8258427 ]\n",
      "Mean: 0.8170673529596384\n",
      "Standard deviation: 0.018238453975258855\n"
     ]
    }
   ],
   "source": [
    "rfc = RandomForestClassifier(n_estimators=300, random_state=0)\n",
    "rfc_cv = cross_val_score(rfc, X, y, cv=kfold,\n",
    "                        scoring=acc)\n",
    "display_scores(rfc_cv)"
   ]
  },
  {
   "cell_type": "markdown",
   "metadata": {
    "papermill": {
     "duration": 0.076651,
     "end_time": "2021-02-01T12:09:09.358017",
     "exception": false,
     "start_time": "2021-02-01T12:09:09.281366",
     "status": "completed"
    },
    "tags": []
   },
   "source": [
    "**XGBoost**"
   ]
  },
  {
   "cell_type": "code",
   "execution_count": 51,
   "metadata": {
    "execution": {
     "iopub.execute_input": "2021-02-01T12:09:09.519598Z",
     "iopub.status.busy": "2021-02-01T12:09:09.518846Z",
     "iopub.status.idle": "2021-02-01T12:09:10.082654Z",
     "shell.execute_reply": "2021-02-01T12:09:10.083895Z"
    },
    "papermill": {
     "duration": 0.649291,
     "end_time": "2021-02-01T12:09:10.084145",
     "exception": false,
     "start_time": "2021-02-01T12:09:09.434854",
     "status": "completed"
    },
    "tags": []
   },
   "outputs": [
    {
     "name": "stderr",
     "output_type": "stream",
     "text": [
      "/opt/conda/lib/python3.7/site-packages/xgboost/sklearn.py:888: UserWarning: The use of label encoder in XGBClassifier is deprecated and will be removed in a future release. To remove this warning, do the following: 1) Pass option use_label_encoder=False when constructing XGBClassifier object; and 2) Encode your labels (y) as integers starting with 0, i.e. 0, 1, 2, ..., [num_class - 1].\n",
      "  warnings.warn(label_encoder_deprecation_msg, UserWarning)\n"
     ]
    },
    {
     "name": "stdout",
     "output_type": "stream",
     "text": [
      "[12:09:09] WARNING: ../src/learner.cc:1061: Starting in XGBoost 1.3.0, the default evaluation metric used with the objective 'binary:logistic' was changed from 'error' to 'logloss'. Explicitly set eval_metric if you'd like to restore the old behavior.\n",
      "[12:09:09] WARNING: ../src/learner.cc:1061: Starting in XGBoost 1.3.0, the default evaluation metric used with the objective 'binary:logistic' was changed from 'error' to 'logloss'. Explicitly set eval_metric if you'd like to restore the old behavior.\n",
      "[12:09:09] WARNING: ../src/learner.cc:1061: Starting in XGBoost 1.3.0, the default evaluation metric used with the objective 'binary:logistic' was changed from 'error' to 'logloss'. Explicitly set eval_metric if you'd like to restore the old behavior.\n",
      "[12:09:09] WARNING: ../src/learner.cc:1061: Starting in XGBoost 1.3.0, the default evaluation metric used with the objective 'binary:logistic' was changed from 'error' to 'logloss'. Explicitly set eval_metric if you'd like to restore the old behavior.\n",
      "[12:09:09] WARNING: ../src/learner.cc:1061: Starting in XGBoost 1.3.0, the default evaluation metric used with the objective 'binary:logistic' was changed from 'error' to 'logloss'. Explicitly set eval_metric if you'd like to restore the old behavior.\n",
      "Scores: [0.81005587 0.80898876 0.84831461 0.81460674 0.82022472]\n",
      "Mean: 0.8204381394764922\n",
      "Standard deviation: 0.014491569817541954\n"
     ]
    }
   ],
   "source": [
    "xgb = XGBClassifier(objective = 'binary:logistic')\n",
    "xgb_cv = cross_val_score(xgb, X, y, cv=kfold,\n",
    "                        scoring=acc)\n",
    "display_scores(xgb_cv)"
   ]
  },
  {
   "cell_type": "markdown",
   "metadata": {
    "papermill": {
     "duration": 0.081149,
     "end_time": "2021-02-01T12:09:10.248533",
     "exception": false,
     "start_time": "2021-02-01T12:09:10.167384",
     "status": "completed"
    },
    "tags": []
   },
   "source": [
    "# Hyperparameter Tuning \n",
    "\n",
    "Randomized search of parameters"
   ]
  },
  {
   "cell_type": "code",
   "execution_count": 52,
   "metadata": {
    "execution": {
     "iopub.execute_input": "2021-02-01T12:09:10.418677Z",
     "iopub.status.busy": "2021-02-01T12:09:10.417995Z",
     "iopub.status.idle": "2021-02-01T12:09:10.420868Z",
     "shell.execute_reply": "2021-02-01T12:09:10.421355Z"
    },
    "papermill": {
     "duration": 0.089905,
     "end_time": "2021-02-01T12:09:10.421570",
     "exception": false,
     "start_time": "2021-02-01T12:09:10.331665",
     "status": "completed"
    },
    "tags": []
   },
   "outputs": [
    {
     "name": "stdout",
     "output_type": "stream",
     "text": [
      "{'bootstrap': True, 'ccp_alpha': 0.0, 'class_weight': None, 'criterion': 'gini', 'max_depth': None, 'max_features': 'auto', 'max_leaf_nodes': None, 'max_samples': None, 'min_impurity_decrease': 0.0, 'min_impurity_split': None, 'min_samples_leaf': 1, 'min_samples_split': 2, 'min_weight_fraction_leaf': 0.0, 'n_estimators': 300, 'n_jobs': None, 'oob_score': False, 'random_state': 0, 'verbose': 0, 'warm_start': False}\n"
     ]
    }
   ],
   "source": [
    "# Current parameters in use\n",
    "base_rfc_params = rfc.get_params()\n",
    "print(base_rfc_params)"
   ]
  },
  {
   "cell_type": "markdown",
   "metadata": {
    "papermill": {
     "duration": 0.077888,
     "end_time": "2021-02-01T12:09:10.586383",
     "exception": false,
     "start_time": "2021-02-01T12:09:10.508495",
     "status": "completed"
    },
    "tags": []
   },
   "source": [
    "RFC Hyperparameter Tuning"
   ]
  },
  {
   "cell_type": "code",
   "execution_count": 53,
   "metadata": {
    "execution": {
     "iopub.execute_input": "2021-02-01T12:09:10.745132Z",
     "iopub.status.busy": "2021-02-01T12:09:10.744448Z",
     "iopub.status.idle": "2021-02-01T12:09:10.750781Z",
     "shell.execute_reply": "2021-02-01T12:09:10.751332Z"
    },
    "papermill": {
     "duration": 0.087295,
     "end_time": "2021-02-01T12:09:10.751506",
     "exception": false,
     "start_time": "2021-02-01T12:09:10.664211",
     "status": "completed"
    },
    "tags": []
   },
   "outputs": [],
   "source": [
    "# Number of trees in random forest\n",
    "n_estimators = [int(x) for x in np.linspace(start = 200, stop = 2000, num = 10)]\n",
    "# Number of features to consider at every split\n",
    "max_features = ['auto', 'sqrt']\n",
    "# Maximum number of levels in tree\n",
    "max_depth = [int(x) for x in np.linspace(10, 110, num = 11)]\n",
    "max_depth.append(None)\n",
    "# Minimum number of samples required to split a node\n",
    "min_samples_split = [2, 5, 10]\n",
    "# Minimum number of samples required at each leaf node\n",
    "min_samples_leaf = [1, 2, 4]\n",
    "# Method of selecting samples for training each tree\n",
    "bootstrap = [True, False]"
   ]
  },
  {
   "cell_type": "code",
   "execution_count": 54,
   "metadata": {
    "execution": {
     "iopub.execute_input": "2021-02-01T12:09:10.913236Z",
     "iopub.status.busy": "2021-02-01T12:09:10.912586Z",
     "iopub.status.idle": "2021-02-01T12:09:10.918165Z",
     "shell.execute_reply": "2021-02-01T12:09:10.918819Z"
    },
    "papermill": {
     "duration": 0.088384,
     "end_time": "2021-02-01T12:09:10.919041",
     "exception": false,
     "start_time": "2021-02-01T12:09:10.830657",
     "status": "completed"
    },
    "tags": []
   },
   "outputs": [
    {
     "name": "stdout",
     "output_type": "stream",
     "text": [
      "{'n_estimators': [200, 400, 600, 800, 1000, 1200, 1400, 1600, 1800, 2000], 'max_features': ['auto', 'sqrt'], 'max_depth': [10, 20, 30, 40, 50, 60, 70, 80, 90, 100, 110, None], 'min_samples_split': [2, 5, 10], 'min_samples_leaf': [1, 2, 4], 'bootstrap': [True, False]}\n"
     ]
    }
   ],
   "source": [
    "# Create the random grid\n",
    "random_grid = {'n_estimators': n_estimators, 'max_features': max_features,\n",
    "               'max_depth': max_depth, 'min_samples_split': min_samples_split,\n",
    "               'min_samples_leaf': min_samples_leaf, 'bootstrap': bootstrap}\n",
    "print(random_grid)"
   ]
  },
  {
   "cell_type": "code",
   "execution_count": 55,
   "metadata": {
    "execution": {
     "iopub.execute_input": "2021-02-01T12:09:11.086768Z",
     "iopub.status.busy": "2021-02-01T12:09:11.086008Z",
     "iopub.status.idle": "2021-02-01T12:10:02.903320Z",
     "shell.execute_reply": "2021-02-01T12:10:02.903899Z"
    },
    "papermill": {
     "duration": 51.905161,
     "end_time": "2021-02-01T12:10:02.904091",
     "exception": false,
     "start_time": "2021-02-01T12:09:10.998930",
     "status": "completed"
    },
    "tags": []
   },
   "outputs": [
    {
     "name": "stdout",
     "output_type": "stream",
     "text": [
      "{'n_estimators': 1200, 'min_samples_split': 5, 'min_samples_leaf': 4, 'max_features': 'sqrt', 'max_depth': 40, 'bootstrap': False}\n"
     ]
    }
   ],
   "source": [
    "# RandomizedSearchCV\n",
    "rand_search = RandomizedSearchCV(estimator=rfc, param_distributions=random_grid,\n",
    "                        scoring=acc, cv=kfold, n_iter = 5)    \n",
    "result = rand_search.fit(X, y)\n",
    "# Results summary\n",
    "# View best hyperparameters\n",
    "best_rfc_params = result.best_params_\n",
    "print(best_rfc_params)"
   ]
  },
  {
   "cell_type": "markdown",
   "metadata": {
    "papermill": {
     "duration": 0.0789,
     "end_time": "2021-02-01T12:10:03.062538",
     "exception": false,
     "start_time": "2021-02-01T12:10:02.983638",
     "status": "completed"
    },
    "tags": []
   },
   "source": [
    "XGBoost Classifier hyperparameter tuning"
   ]
  },
  {
   "cell_type": "code",
   "execution_count": 56,
   "metadata": {
    "execution": {
     "iopub.execute_input": "2021-02-01T12:10:03.224878Z",
     "iopub.status.busy": "2021-02-01T12:10:03.224209Z",
     "iopub.status.idle": "2021-02-01T12:10:03.232794Z",
     "shell.execute_reply": "2021-02-01T12:10:03.233301Z"
    },
    "papermill": {
     "duration": 0.092103,
     "end_time": "2021-02-01T12:10:03.233466",
     "exception": false,
     "start_time": "2021-02-01T12:10:03.141363",
     "status": "completed"
    },
    "tags": []
   },
   "outputs": [],
   "source": [
    "param_dist = {'n_estimators': stats.randint(150, 1000),\n",
    "              'learning_rate': stats.uniform(0.01, 0.6),\n",
    "              'subsample': stats.uniform(0.3, 0.9),\n",
    "              'max_depth': [3, 4, 5, 6, 7, 8, 9],\n",
    "              'colsample_bytree': stats.uniform(0.5, 0.9),\n",
    "              'min_child_weight': [1, 2, 3, 4]\n",
    "             }"
   ]
  },
  {
   "cell_type": "code",
   "execution_count": 57,
   "metadata": {
    "execution": {
     "iopub.execute_input": "2021-02-01T12:10:03.395176Z",
     "iopub.status.busy": "2021-02-01T12:10:03.394497Z",
     "iopub.status.idle": "2021-02-01T12:13:09.383293Z",
     "shell.execute_reply": "2021-02-01T12:13:09.382641Z"
    },
    "papermill": {
     "duration": 186.070679,
     "end_time": "2021-02-01T12:13:09.383463",
     "exception": false,
     "start_time": "2021-02-01T12:10:03.312784",
     "status": "completed"
    },
    "tags": []
   },
   "outputs": [
    {
     "name": "stdout",
     "output_type": "stream",
     "text": [
      "Fitting 5 folds for each of 5 candidates, totalling 25 fits\n"
     ]
    },
    {
     "name": "stderr",
     "output_type": "stream",
     "text": [
      "[Parallel(n_jobs=-1)]: Using backend LokyBackend with 4 concurrent workers.\n",
      "[Parallel(n_jobs=-1)]: Done  25 out of  25 | elapsed:  3.1min finished\n",
      "/opt/conda/lib/python3.7/site-packages/xgboost/sklearn.py:888: UserWarning: The use of label encoder in XGBClassifier is deprecated and will be removed in a future release. To remove this warning, do the following: 1) Pass option use_label_encoder=False when constructing XGBClassifier object; and 2) Encode your labels (y) as integers starting with 0, i.e. 0, 1, 2, ..., [num_class - 1].\n",
      "  warnings.warn(label_encoder_deprecation_msg, UserWarning)\n"
     ]
    },
    {
     "name": "stdout",
     "output_type": "stream",
     "text": [
      "[12:13:08] WARNING: ../src/learner.cc:1061: Starting in XGBoost 1.3.0, the default evaluation metric used with the objective 'binary:logistic' was changed from 'error' to 'logloss'. Explicitly set eval_metric if you'd like to restore the old behavior.\n"
     ]
    }
   ],
   "source": [
    "clf = RandomizedSearchCV(xgb, \n",
    "                         param_distributions = param_dist,\n",
    "                         cv = kfold,  \n",
    "                         n_iter = 5, \n",
    "                         scoring = acc, \n",
    "                         error_score = 0, \n",
    "                         verbose = 3, \n",
    "                         n_jobs = -1)\n",
    "clf.fit(X, y)\n",
    "tuned_xgb = clf.best_estimator_"
   ]
  },
  {
   "cell_type": "code",
   "execution_count": 58,
   "metadata": {
    "execution": {
     "iopub.execute_input": "2021-02-01T12:13:09.555081Z",
     "iopub.status.busy": "2021-02-01T12:13:09.554433Z",
     "iopub.status.idle": "2021-02-01T12:13:09.557411Z",
     "shell.execute_reply": "2021-02-01T12:13:09.556819Z"
    },
    "papermill": {
     "duration": 0.08955,
     "end_time": "2021-02-01T12:13:09.557566",
     "exception": false,
     "start_time": "2021-02-01T12:13:09.468016",
     "status": "completed"
    },
    "tags": []
   },
   "outputs": [
    {
     "name": "stdout",
     "output_type": "stream",
     "text": [
      "[0.         0.         0.82939552 0.         0.        ]\n"
     ]
    }
   ],
   "source": [
    "print(clf.cv_results_['mean_test_score'])"
   ]
  },
  {
   "cell_type": "markdown",
   "metadata": {
    "papermill": {
     "duration": 0.081459,
     "end_time": "2021-02-01T12:13:09.720508",
     "exception": false,
     "start_time": "2021-02-01T12:13:09.639049",
     "status": "completed"
    },
    "tags": []
   },
   "source": [
    "**Evaluate randomized rearch improvement in parameters**"
   ]
  },
  {
   "cell_type": "code",
   "execution_count": 59,
   "metadata": {
    "execution": {
     "iopub.execute_input": "2021-02-01T12:13:09.887526Z",
     "iopub.status.busy": "2021-02-01T12:13:09.886882Z",
     "iopub.status.idle": "2021-02-01T12:13:10.849404Z",
     "shell.execute_reply": "2021-02-01T12:13:10.848847Z"
    },
    "papermill": {
     "duration": 1.047151,
     "end_time": "2021-02-01T12:13:10.849562",
     "exception": false,
     "start_time": "2021-02-01T12:13:09.802411",
     "status": "completed"
    },
    "tags": []
   },
   "outputs": [
    {
     "name": "stdout",
     "output_type": "stream",
     "text": [
      "Model Performance\n",
      "Average Error: 0.1066 degrees.\n",
      "Accuracy = -inf%.\n",
      "Model Performance\n",
      "Average Error: 0.1291 degrees.\n",
      "Accuracy = -inf%.\n"
     ]
    }
   ],
   "source": [
    "# Evaluate Randomized Search on Validation Set\n",
    "def evaluate(model, features, labels):\n",
    "    predictions = model.predict(features)\n",
    "    errors = abs(predictions - labels)\n",
    "    mape = 100 * np.mean(errors / labels)\n",
    "    accuracy = 100 - mape\n",
    "    print('Model Performance')\n",
    "    print('Average Error: {:0.4f} degrees.'.format(np.mean(errors)))\n",
    "    print('Accuracy = {:0.2f}%.'.format(accuracy))\n",
    "    return accuracy\n",
    "\n",
    "# Baseline model accuracy\n",
    "rfc.fit(X, y)\n",
    "base_accuracy = evaluate(rfc, X, y)\n",
    "\n",
    "# Best model\n",
    "best_rand_model = result.best_estimator_\n",
    "best_accuracy = evaluate(best_rand_model, X, y)"
   ]
  },
  {
   "cell_type": "markdown",
   "metadata": {
    "papermill": {
     "duration": 0.082801,
     "end_time": "2021-02-01T12:13:11.016632",
     "exception": false,
     "start_time": "2021-02-01T12:13:10.933831",
     "status": "completed"
    },
    "tags": []
   },
   "source": [
    "# Run model on test data"
   ]
  },
  {
   "cell_type": "code",
   "execution_count": 60,
   "metadata": {
    "execution": {
     "iopub.execute_input": "2021-02-01T12:13:11.200256Z",
     "iopub.status.busy": "2021-02-01T12:13:11.199579Z",
     "iopub.status.idle": "2021-02-01T12:13:11.202710Z",
     "shell.execute_reply": "2021-02-01T12:13:11.203289Z"
    },
    "papermill": {
     "duration": 0.098041,
     "end_time": "2021-02-01T12:13:11.203466",
     "exception": false,
     "start_time": "2021-02-01T12:13:11.105425",
     "status": "completed"
    },
    "tags": []
   },
   "outputs": [
    {
     "name": "stdout",
     "output_type": "stream",
     "text": [
      "             Pclass  AgeOrd  FareDiscr  Prefix  NumFamilyMems  Sex_enc  \\\n",
      "PassengerId                                                              \n",
      "892               3       2          0       1              1      1.0   \n",
      "893               3       3          0       3              2      0.0   \n",
      "894               2       4          1       1              1      1.0   \n",
      "895               3       1          1       1              1      1.0   \n",
      "896               3       1          1       3              3      0.0   \n",
      "\n",
      "             Embarked_enc  \n",
      "PassengerId                \n",
      "892                   1.0  \n",
      "893                   2.0  \n",
      "894                   1.0  \n",
      "895                   2.0  \n",
      "896                   2.0  \n"
     ]
    }
   ],
   "source": [
    "#test_set = test_set.drop(['Survived'], axis=1)\n",
    "print(test_set.head())"
   ]
  },
  {
   "cell_type": "code",
   "execution_count": 61,
   "metadata": {
    "execution": {
     "iopub.execute_input": "2021-02-01T12:13:11.387875Z",
     "iopub.status.busy": "2021-02-01T12:13:11.387096Z",
     "iopub.status.idle": "2021-02-01T12:13:11.416294Z",
     "shell.execute_reply": "2021-02-01T12:13:11.415754Z"
    },
    "papermill": {
     "duration": 0.130106,
     "end_time": "2021-02-01T12:13:11.416449",
     "exception": false,
     "start_time": "2021-02-01T12:13:11.286343",
     "status": "completed"
    },
    "tags": []
   },
   "outputs": [
    {
     "name": "stdout",
     "output_type": "stream",
     "text": [
      "             Pclass  AgeOrd  FareDiscr  Prefix  NumFamilyMems  Sex_enc  \\\n",
      "PassengerId                                                              \n",
      "892               3       2          0       1              1      1.0   \n",
      "893               3       3          0       3              2      0.0   \n",
      "894               2       4          1       1              1      1.0   \n",
      "895               3       1          1       1              1      1.0   \n",
      "896               3       1          1       3              3      0.0   \n",
      "\n",
      "             Embarked_enc  Survived  \n",
      "PassengerId                          \n",
      "892                   1.0         0  \n",
      "893                   2.0         0  \n",
      "894                   1.0         0  \n",
      "895                   2.0         0  \n",
      "896                   2.0         1  \n"
     ]
    }
   ],
   "source": [
    "# Try model\n",
    "test_set['Survived'] = tuned_xgb.predict(test_set)\n",
    "print(test_set.head())"
   ]
  },
  {
   "cell_type": "code",
   "execution_count": 62,
   "metadata": {
    "execution": {
     "iopub.execute_input": "2021-02-01T12:13:11.600200Z",
     "iopub.status.busy": "2021-02-01T12:13:11.599330Z",
     "iopub.status.idle": "2021-02-01T12:13:11.611203Z",
     "shell.execute_reply": "2021-02-01T12:13:11.611898Z"
    },
    "papermill": {
     "duration": 0.107166,
     "end_time": "2021-02-01T12:13:11.612101",
     "exception": false,
     "start_time": "2021-02-01T12:13:11.504935",
     "status": "completed"
    },
    "tags": []
   },
   "outputs": [],
   "source": [
    "submission = pd.DataFrame({\n",
    "        \"PassengerId\": test_set.index,\n",
    "        \"Survived\": test_set['Survived']\n",
    "    })\n",
    "submission.to_csv('test_submission.csv', index=False)"
   ]
  }
 ],
 "metadata": {
  "kernelspec": {
   "display_name": "Python 3",
   "language": "python",
   "name": "python3"
  },
  "language_info": {
   "codemirror_mode": {
    "name": "ipython",
    "version": 3
   },
   "file_extension": ".py",
   "mimetype": "text/x-python",
   "name": "python",
   "nbconvert_exporter": "python",
   "pygments_lexer": "ipython3",
   "version": "3.7.9"
  },
  "papermill": {
   "default_parameters": {},
   "duration": 273.029744,
   "end_time": "2021-02-01T12:13:12.813162",
   "environment_variables": {},
   "exception": null,
   "input_path": "__notebook__.ipynb",
   "output_path": "__notebook__.ipynb",
   "parameters": {},
   "start_time": "2021-02-01T12:08:39.783418",
   "version": "2.2.2"
  }
 },
 "nbformat": 4,
 "nbformat_minor": 4
}
